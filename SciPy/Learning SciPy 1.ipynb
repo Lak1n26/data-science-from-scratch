{
 "cells": [
  {
   "cell_type": "code",
   "execution_count": 66,
   "id": "ed79eea7",
   "metadata": {},
   "outputs": [],
   "source": [
    "import numpy as np\n",
    "from scipy import stats\n",
    "import statsmodels.stats.api as sms\n",
    "\n",
    "import seaborn as sns\n",
    "data = np.random.normal(0, 1, 100)\n",
    "# sns.histplot(data)"
   ]
  },
  {
   "cell_type": "code",
   "execution_count": 10,
   "id": "dc4acfe8",
   "metadata": {},
   "outputs": [
    {
     "data": {
      "text/html": [
       "<div>\n",
       "<style scoped>\n",
       "    .dataframe tbody tr th:only-of-type {\n",
       "        vertical-align: middle;\n",
       "    }\n",
       "\n",
       "    .dataframe tbody tr th {\n",
       "        vertical-align: top;\n",
       "    }\n",
       "\n",
       "    .dataframe thead th {\n",
       "        text-align: right;\n",
       "    }\n",
       "</style>\n",
       "<table border=\"1\" class=\"dataframe\">\n",
       "  <thead>\n",
       "    <tr style=\"text-align: right;\">\n",
       "      <th></th>\n",
       "      <th>Survived</th>\n",
       "      <th>Pclass</th>\n",
       "      <th>Name</th>\n",
       "      <th>Sex</th>\n",
       "      <th>Age</th>\n",
       "      <th>SibSp</th>\n",
       "      <th>Parch</th>\n",
       "      <th>Ticket</th>\n",
       "      <th>Fare</th>\n",
       "      <th>Cabin</th>\n",
       "      <th>Embarked</th>\n",
       "    </tr>\n",
       "    <tr>\n",
       "      <th>PassengerId</th>\n",
       "      <th></th>\n",
       "      <th></th>\n",
       "      <th></th>\n",
       "      <th></th>\n",
       "      <th></th>\n",
       "      <th></th>\n",
       "      <th></th>\n",
       "      <th></th>\n",
       "      <th></th>\n",
       "      <th></th>\n",
       "      <th></th>\n",
       "    </tr>\n",
       "  </thead>\n",
       "  <tbody>\n",
       "    <tr>\n",
       "      <th>1</th>\n",
       "      <td>0</td>\n",
       "      <td>3</td>\n",
       "      <td>Braund, Mr. Owen Harris</td>\n",
       "      <td>male</td>\n",
       "      <td>22.0</td>\n",
       "      <td>1</td>\n",
       "      <td>0</td>\n",
       "      <td>A/5 21171</td>\n",
       "      <td>7.2500</td>\n",
       "      <td>NaN</td>\n",
       "      <td>S</td>\n",
       "    </tr>\n",
       "    <tr>\n",
       "      <th>2</th>\n",
       "      <td>1</td>\n",
       "      <td>1</td>\n",
       "      <td>Cumings, Mrs. John Bradley (Florence Briggs Th...</td>\n",
       "      <td>female</td>\n",
       "      <td>38.0</td>\n",
       "      <td>1</td>\n",
       "      <td>0</td>\n",
       "      <td>PC 17599</td>\n",
       "      <td>71.2833</td>\n",
       "      <td>C85</td>\n",
       "      <td>C</td>\n",
       "    </tr>\n",
       "    <tr>\n",
       "      <th>3</th>\n",
       "      <td>1</td>\n",
       "      <td>3</td>\n",
       "      <td>Heikkinen, Miss. Laina</td>\n",
       "      <td>female</td>\n",
       "      <td>26.0</td>\n",
       "      <td>0</td>\n",
       "      <td>0</td>\n",
       "      <td>STON/O2. 3101282</td>\n",
       "      <td>7.9250</td>\n",
       "      <td>NaN</td>\n",
       "      <td>S</td>\n",
       "    </tr>\n",
       "    <tr>\n",
       "      <th>4</th>\n",
       "      <td>1</td>\n",
       "      <td>1</td>\n",
       "      <td>Futrelle, Mrs. Jacques Heath (Lily May Peel)</td>\n",
       "      <td>female</td>\n",
       "      <td>35.0</td>\n",
       "      <td>1</td>\n",
       "      <td>0</td>\n",
       "      <td>113803</td>\n",
       "      <td>53.1000</td>\n",
       "      <td>C123</td>\n",
       "      <td>S</td>\n",
       "    </tr>\n",
       "    <tr>\n",
       "      <th>5</th>\n",
       "      <td>0</td>\n",
       "      <td>3</td>\n",
       "      <td>Allen, Mr. William Henry</td>\n",
       "      <td>male</td>\n",
       "      <td>35.0</td>\n",
       "      <td>0</td>\n",
       "      <td>0</td>\n",
       "      <td>373450</td>\n",
       "      <td>8.0500</td>\n",
       "      <td>NaN</td>\n",
       "      <td>S</td>\n",
       "    </tr>\n",
       "  </tbody>\n",
       "</table>\n",
       "</div>"
      ],
      "text/plain": [
       "             Survived  Pclass  \\\n",
       "PassengerId                     \n",
       "1                   0       3   \n",
       "2                   1       1   \n",
       "3                   1       3   \n",
       "4                   1       1   \n",
       "5                   0       3   \n",
       "\n",
       "                                                          Name     Sex   Age  \\\n",
       "PassengerId                                                                    \n",
       "1                                      Braund, Mr. Owen Harris    male  22.0   \n",
       "2            Cumings, Mrs. John Bradley (Florence Briggs Th...  female  38.0   \n",
       "3                                       Heikkinen, Miss. Laina  female  26.0   \n",
       "4                 Futrelle, Mrs. Jacques Heath (Lily May Peel)  female  35.0   \n",
       "5                                     Allen, Mr. William Henry    male  35.0   \n",
       "\n",
       "             SibSp  Parch            Ticket     Fare Cabin Embarked  \n",
       "PassengerId                                                          \n",
       "1                1      0         A/5 21171   7.2500   NaN        S  \n",
       "2                1      0          PC 17599  71.2833   C85        C  \n",
       "3                0      0  STON/O2. 3101282   7.9250   NaN        S  \n",
       "4                1      0            113803  53.1000  C123        S  \n",
       "5                0      0            373450   8.0500   NaN        S  "
      ]
     },
     "execution_count": 10,
     "metadata": {},
     "output_type": "execute_result"
    }
   ],
   "source": [
    "df = pd.read_csv('titanic.csv', index_col=0)\n",
    "df.head()"
   ]
  },
  {
   "cell_type": "code",
   "execution_count": 42,
   "id": "5eb17653",
   "metadata": {},
   "outputs": [
    {
     "data": {
      "text/plain": [
       "ModeResult(mode=array([nan]), count=array([177]))"
      ]
     },
     "execution_count": 42,
     "metadata": {},
     "output_type": "execute_result"
    }
   ],
   "source": [
    "# мода\n",
    "df['Age'].mode()\n",
    "\n",
    "stats.mode(df['Age'], keepdims=True)"
   ]
  },
  {
   "cell_type": "code",
   "execution_count": 43,
   "id": "e55b7d91",
   "metadata": {},
   "outputs": [
    {
     "data": {
      "text/plain": [
       "nan"
      ]
     },
     "execution_count": 43,
     "metadata": {},
     "output_type": "execute_result"
    }
   ],
   "source": [
    "# медиана\n",
    "df['Age'].median()\n",
    "\n",
    "np.median(df['Age'])"
   ]
  },
  {
   "cell_type": "code",
   "execution_count": 44,
   "id": "5af90746",
   "metadata": {},
   "outputs": [
    {
     "data": {
      "text/plain": [
       "29.69911764705882"
      ]
     },
     "execution_count": 44,
     "metadata": {},
     "output_type": "execute_result"
    }
   ],
   "source": [
    "# среднее арифметическое\n",
    "df['Age'].mean()\n",
    "\n",
    "np.mean(df['Age'])"
   ]
  },
  {
   "cell_type": "code",
   "execution_count": 63,
   "id": "a1fcd68b",
   "metadata": {},
   "outputs": [
    {
     "data": {
      "text/plain": [
       "1"
      ]
     },
     "execution_count": 63,
     "metadata": {},
     "output_type": "execute_result"
    }
   ],
   "source": [
    "# размах\n",
    "np.percentile(df['Survived'], [0, 100])\n",
    "\n",
    "np.max(df['Survived']) - np.min(df['Survived'])\n",
    "\n",
    "df['Survived'].max() - df['Survived'].min()"
   ]
  },
  {
   "cell_type": "code",
   "execution_count": 46,
   "id": "a2361ee7",
   "metadata": {},
   "outputs": [
    {
     "data": {
      "text/plain": [
       "210.72357975366614"
      ]
     },
     "execution_count": 46,
     "metadata": {},
     "output_type": "execute_result"
    }
   ],
   "source": [
    "# дисперсия\n",
    "df['Age'].var()\n",
    "\n",
    "np.var(df['Age'])"
   ]
  },
  {
   "cell_type": "code",
   "execution_count": 47,
   "id": "44b40867",
   "metadata": {},
   "outputs": [
    {
     "data": {
      "text/plain": [
       "14.516321150817316"
      ]
     },
     "execution_count": 47,
     "metadata": {},
     "output_type": "execute_result"
    }
   ],
   "source": [
    "# среднеквадратическое (стандартное) отклонение\n",
    "df['Age'].std()\n",
    "\n",
    "np.std(df['Age'])"
   ]
  },
  {
   "cell_type": "code",
   "execution_count": 65,
   "id": "b1595377",
   "metadata": {},
   "outputs": [
    {
     "data": {
      "text/plain": [
       "0.25    20.125\n",
       "0.50    28.000\n",
       "0.75    38.000\n",
       "Name: Age, dtype: float64"
      ]
     },
     "execution_count": 65,
     "metadata": {},
     "output_type": "execute_result"
    }
   ],
   "source": [
    "# квантили\n",
    "df['Age'].quantile(q=0.75)\n",
    "\n",
    "df['Age'].quantile(q=[0.25, 0.5, 0.75])"
   ]
  },
  {
   "cell_type": "code",
   "execution_count": 67,
   "id": "4cecc185",
   "metadata": {},
   "outputs": [
    {
     "data": {
      "text/plain": [
       "True"
      ]
     },
     "execution_count": 67,
     "metadata": {},
     "output_type": "execute_result"
    }
   ],
   "source": [
    "# Стандартизация\n",
    "new_data = [(elem - np.mean(data)) / np.std(data) for elem in data]\n",
    "new_data2 = stats.zscore(data)\n",
    "sum(new_data) == sum(new_data2)"
   ]
  },
  {
   "cell_type": "code",
   "execution_count": 68,
   "id": "8021fa12",
   "metadata": {},
   "outputs": [
    {
     "name": "stdout",
     "output_type": "stream",
     "text": [
      "0.08520206199566052\n",
      "0.0856312942436986\n"
     ]
    }
   ],
   "source": [
    "# стандартная ошибка среднего \n",
    "se1 = np.std(data) / np.sqrt(len(data))\n",
    "se2 = stats.sem(data)\n",
    "print(se1); print(se2)"
   ]
  },
  {
   "cell_type": "code",
   "execution_count": 69,
   "id": "09ef4a2a",
   "metadata": {},
   "outputs": [
    {
     "data": {
      "text/plain": [
       "(-0.23324367775277408, 0.2086138005447107)"
      ]
     },
     "execution_count": 69,
     "metadata": {},
     "output_type": "execute_result"
    }
   ],
   "source": [
    "# доверительный интервал\n",
    "\n",
    "# первый способ\n",
    "stats.t.interval(0.95, len(data) - 1, loc=np.mean(data), scale=stats.sem(data))  # confidence = 95%\n",
    "\n",
    "# второй способ\n",
    "sms.DescrStatsW(data).tconfint_mean(alpha=0.05)  # двусторонний доверительный интервал для средневзвешенного значения данных\n",
    "\n",
    "# третий способ\n",
    "# для 95%:\n",
    "(np.mean(data) - 1.96 * stats.sem(data), np.mean(data) + 1.96 * stats.sem(data))\n",
    "# для 99%:\n",
    "(np.mean(data) - 2.58 * stats.sem(data), np.mean(data) + 2.58 * stats.sem(data))"
   ]
  }
 ],
 "metadata": {
  "kernelspec": {
   "display_name": "Python 3 (ipykernel)",
   "language": "python",
   "name": "python3"
  },
  "language_info": {
   "codemirror_mode": {
    "name": "ipython",
    "version": 3
   },
   "file_extension": ".py",
   "mimetype": "text/x-python",
   "name": "python",
   "nbconvert_exporter": "python",
   "pygments_lexer": "ipython3",
   "version": "3.9.5"
  }
 },
 "nbformat": 4,
 "nbformat_minor": 5
}
