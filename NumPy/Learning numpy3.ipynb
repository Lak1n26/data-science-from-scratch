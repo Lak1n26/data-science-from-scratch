{
 "cells": [
  {
   "cell_type": "code",
   "execution_count": 3,
   "id": "658ca28e",
   "metadata": {},
   "outputs": [],
   "source": [
    "import numpy as np"
   ]
  },
  {
   "cell_type": "markdown",
   "id": "27fbd284",
   "metadata": {},
   "source": [
    "### Транслирование (broadcasting) "
   ]
  },
  {
   "cell_type": "code",
   "execution_count": 4,
   "id": "6d778719",
   "metadata": {},
   "outputs": [
    {
     "name": "stdout",
     "output_type": "stream",
     "text": [
      "[1 2 3]\n",
      "[[10]\n",
      " [20]\n",
      " [30]]\n"
     ]
    },
    {
     "data": {
      "text/plain": [
       "array([[11, 12, 13],\n",
       "       [21, 22, 23],\n",
       "       [31, 32, 33]])"
      ]
     },
     "execution_count": 4,
     "metadata": {},
     "output_type": "execute_result"
    }
   ],
   "source": [
    "a = np.array([1, 2, 3])\n",
    "b = np.array([10, 20, 30])[:, np.newaxis]\n",
    "print(a)\n",
    "print(b)\n",
    "a + b"
   ]
  },
  {
   "cell_type": "code",
   "execution_count": 5,
   "id": "5920ea61",
   "metadata": {},
   "outputs": [
    {
     "data": {
      "text/plain": [
       "array([-1.11022302e-17, -6.66133815e-17, -1.11022302e-17])"
      ]
     },
     "execution_count": 5,
     "metadata": {},
     "output_type": "execute_result"
    }
   ],
   "source": [
    "x = np.random.random((10, 3))\n",
    "x_mean = x.mean(0) # вычисление среднего по столбцам\n",
    "x_centered = x - x_mean\n",
    "x_centered.mean(0)"
   ]
  },
  {
   "cell_type": "markdown",
   "id": "84f879b8",
   "metadata": {},
   "source": [
    "### Сравнения, маски и булева логика"
   ]
  },
  {
   "cell_type": "code",
   "execution_count": 6,
   "id": "e1c74b0b",
   "metadata": {},
   "outputs": [
    {
     "data": {
      "text/plain": [
       "(array([14.,  8.,  7., 14.,  6.,  6., 11.,  9., 10., 10.,  7.,  7.,  9.,\n",
       "         8.,  7., 11.,  6.,  9.,  6., 12., 13.,  4.,  7., 11.,  5., 13.,\n",
       "        10., 13., 11.,  7.,  6.,  9.,  9.,  9., 12., 13.,  5.,  6., 16.,\n",
       "         9.]),\n",
       " array([0.01181102, 0.06141732, 0.11102362, 0.16062992, 0.21023622,\n",
       "        0.25984252, 0.30944882, 0.35905512, 0.40866142, 0.45826772,\n",
       "        0.50787402, 0.55748031, 0.60708661, 0.65669291, 0.70629921,\n",
       "        0.75590551, 0.80551181, 0.85511811, 0.90472441, 0.95433071,\n",
       "        1.00393701, 1.05354331, 1.10314961, 1.15275591, 1.2023622 ,\n",
       "        1.2519685 , 1.3015748 , 1.3511811 , 1.4007874 , 1.4503937 ,\n",
       "        1.5       , 1.5496063 , 1.5992126 , 1.6488189 , 1.6984252 ,\n",
       "        1.7480315 , 1.7976378 , 1.84724409, 1.89685039, 1.94645669,\n",
       "        1.99606299]),\n",
       " <BarContainer object of 40 artists>)"
      ]
     },
     "execution_count": 6,
     "metadata": {},
     "output_type": "execute_result"
    },
    {
     "data": {
      "image/png": "[encoded data removed]",
      "text/plain": [
       "<Figure size 640x480 with 1 Axes>"
      ]
     },
     "metadata": {},
     "output_type": "display_data"
    }
   ],
   "source": [
    "rainfall = np.random.randint(0, 508, 365)\n",
    "inches = rainfall / 254\n",
    "inches.shape\n",
    "import matplotlib.pyplot as plt\n",
    "plt.hist(inches, 40)\n"
   ]
  },
  {
   "cell_type": "code",
   "execution_count": 7,
   "id": "81556ef4",
   "metadata": {},
   "outputs": [
    {
     "data": {
      "text/plain": [
       "82"
      ]
     },
     "execution_count": 7,
     "metadata": {},
     "output_type": "execute_result"
    }
   ],
   "source": [
    "np.sum((inches > 0.5) & (inches < 1))\n",
    "# 99\n",
    "np.sum(~((inches <= 0.5) | (inches >= 1 )))\n",
    "# 99"
   ]
  },
  {
   "cell_type": "code",
   "execution_count": 8,
   "id": "ae0f0ea2",
   "metadata": {},
   "outputs": [
    {
     "name": "stdout",
     "output_type": "stream",
     "text": [
      "Number days without rain: 0\n",
      "Number days with rain : 365\n",
      "Days with more than 0.5 inches: 270\n",
      "Rainy days with less than 0.1 inches: 22\n"
     ]
    }
   ],
   "source": [
    "print(f\"Number days without rain: {np.sum(inches == 0)}\")\n",
    "print(f\"Number days with rain : {np.sum(inches > 0)}\")\n",
    "print(f\"Days with more than 0.5 inches: {np.sum(inches > 0.5)}\")\n",
    "print(f\"Rainy days with less than 0.1 inches: {np.sum((inches > 0) & (inches < 0.1))}\")"
   ]
  },
  {
   "cell_type": "code",
   "execution_count": 9,
   "id": "193a05ca",
   "metadata": {},
   "outputs": [
    {
     "name": "stdout",
     "output_type": "stream",
     "text": [
      "Number summer days with rain: 104.14173228346456\n",
      "Number summer days without rain: 0.0\n",
      "Number summer: 102\n",
      "Number non-summer rainy days: 266.5472440944882\n"
     ]
    }
   ],
   "source": [
    "rainy = (inches > 0)\n",
    "np.median(inches[rainy])\n",
    "summer = ((np.arange(365) - 172 > 90) & (np.arange(365) - 172 > 0))\n",
    "print(f\"Number summer days with rain: {np.sum(inches[rainy & summer])}\")\n",
    "print(f\"Number summer days without rain: {np.sum(inches[~rainy & summer])}\")\n",
    "print(f\"Number summer: {np.sum(summer)}\")\n",
    "print(f\"Number non-summer rainy days: {np.sum(inches[rainy & ~summer])}\")"
   ]
  },
  {
   "cell_type": "markdown",
   "id": "40507431",
   "metadata": {},
   "source": [
    "### Операторы сравнения "
   ]
  },
  {
   "cell_type": "code",
   "execution_count": 10,
   "id": "59824ff7",
   "metadata": {},
   "outputs": [
    {
     "data": {
      "text/plain": [
       "array([ True,  True, False, False, False])"
      ]
     },
     "execution_count": 10,
     "metadata": {},
     "output_type": "execute_result"
    }
   ],
   "source": [
    "x = np.arange(1, 6)\n",
    "x < 3"
   ]
  },
  {
   "cell_type": "code",
   "execution_count": 11,
   "id": "e812539a",
   "metadata": {},
   "outputs": [
    {
     "data": {
      "text/plain": [
       "array([False, False, False,  True,  True])"
      ]
     },
     "execution_count": 11,
     "metadata": {},
     "output_type": "execute_result"
    }
   ],
   "source": [
    "x > 3"
   ]
  },
  {
   "cell_type": "code",
   "execution_count": 12,
   "id": "1c148ffe",
   "metadata": {},
   "outputs": [
    {
     "data": {
      "text/plain": [
       "array([ True,  True, False,  True,  True])"
      ]
     },
     "execution_count": 12,
     "metadata": {},
     "output_type": "execute_result"
    }
   ],
   "source": [
    "x != 3"
   ]
  },
  {
   "cell_type": "code",
   "execution_count": 13,
   "id": "9846066b",
   "metadata": {},
   "outputs": [
    {
     "data": {
      "text/plain": [
       "array([False,  True, False, False, False])"
      ]
     },
     "execution_count": 13,
     "metadata": {},
     "output_type": "execute_result"
    }
   ],
   "source": [
    "(2 * x) == (x ** 2)"
   ]
  },
  {
   "cell_type": "code",
   "execution_count": 14,
   "id": "b9182d70",
   "metadata": {},
   "outputs": [
    {
     "data": {
      "text/plain": [
       "array([False,  True,  True,  True,  True])"
      ]
     },
     "execution_count": 14,
     "metadata": {},
     "output_type": "execute_result"
    }
   ],
   "source": [
    "np.greater(x, 1)"
   ]
  },
  {
   "cell_type": "code",
   "execution_count": 15,
   "id": "058455ee",
   "metadata": {},
   "outputs": [
    {
     "data": {
      "text/plain": [
       "array([[ True, False,  True,  True],\n",
       "       [False,  True, False,  True],\n",
       "       [ True,  True,  True, False]])"
      ]
     },
     "execution_count": 15,
     "metadata": {},
     "output_type": "execute_result"
    }
   ],
   "source": [
    "x = np.random.randint(10, size = (3, 4))\n",
    "x < 6"
   ]
  },
  {
   "cell_type": "code",
   "execution_count": 16,
   "id": "b68d115f",
   "metadata": {},
   "outputs": [
    {
     "data": {
      "text/plain": [
       "8"
      ]
     },
     "execution_count": 16,
     "metadata": {},
     "output_type": "execute_result"
    }
   ],
   "source": [
    "np.count_nonzero(x < 6)\n",
    "np.sum(x < 6)"
   ]
  },
  {
   "cell_type": "code",
   "execution_count": 17,
   "id": "1c634200",
   "metadata": {},
   "outputs": [
    {
     "data": {
      "text/plain": [
       "array([3, 2, 3])"
      ]
     },
     "execution_count": 17,
     "metadata": {},
     "output_type": "execute_result"
    }
   ],
   "source": [
    "np.sum(x < 6, axis = 0)\n",
    "np.sum(x < 6, axis = 1)"
   ]
  },
  {
   "cell_type": "code",
   "execution_count": 18,
   "id": "c4815320",
   "metadata": {},
   "outputs": [
    {
     "data": {
      "text/plain": [
       "True"
      ]
     },
     "execution_count": 18,
     "metadata": {},
     "output_type": "execute_result"
    }
   ],
   "source": [
    "np.any(x > 8)\n",
    "np.any(x == 1)"
   ]
  },
  {
   "cell_type": "code",
   "execution_count": 19,
   "id": "73651059",
   "metadata": {},
   "outputs": [
    {
     "data": {
      "text/plain": [
       "array([ True, False, False])"
      ]
     },
     "execution_count": 19,
     "metadata": {},
     "output_type": "execute_result"
    }
   ],
   "source": [
    "np.all(x < 8, axis = 1) # все ли значения в каждой строке меньше 8"
   ]
  },
  {
   "cell_type": "code",
   "execution_count": 20,
   "id": "a307bc8c",
   "metadata": {},
   "outputs": [
    {
     "data": {
      "text/plain": [
       "True"
      ]
     },
     "execution_count": 20,
     "metadata": {},
     "output_type": "execute_result"
    }
   ],
   "source": [
    "np.bitwise_and(True, False)\n",
    "np.bitwise_or(True, False)\n",
    "np.bitwise_not(True)\n",
    "np.bitwise_xor(True, False)"
   ]
  },
  {
   "cell_type": "markdown",
   "id": "6a262896",
   "metadata": {},
   "source": [
    "### Маскирование "
   ]
  },
  {
   "cell_type": "code",
   "execution_count": 21,
   "id": "04df56fa",
   "metadata": {},
   "outputs": [
    {
     "data": {
      "text/plain": [
       "array([[4, 6, 1, 4],\n",
       "       [7, 4, 8, 3],\n",
       "       [0, 0, 0, 9]])"
      ]
     },
     "execution_count": 21,
     "metadata": {},
     "output_type": "execute_result"
    }
   ],
   "source": [
    "x"
   ]
  },
  {
   "cell_type": "code",
   "execution_count": 22,
   "id": "4a52650a",
   "metadata": {},
   "outputs": [
    {
     "data": {
      "text/plain": [
       "array([4, 1, 4, 4, 3, 0, 0, 0])"
      ]
     },
     "execution_count": 22,
     "metadata": {},
     "output_type": "execute_result"
    }
   ],
   "source": [
    "x[x < 5]"
   ]
  },
  {
   "cell_type": "code",
   "execution_count": 25,
   "id": "a64a7066",
   "metadata": {},
   "outputs": [
    {
     "data": {
      "text/plain": [
       "array([6, 7])"
      ]
     },
     "execution_count": 25,
     "metadata": {},
     "output_type": "execute_result"
    }
   ],
   "source": [
    "condition = ((x > 5) & (x < 8))\n",
    "x[condition]"
   ]
  }
 ],
 "metadata": {
  "kernelspec": {
   "display_name": "Python 3 (ipykernel)",
   "language": "python",
   "name": "python3"
  },
  "language_info": {
   "codemirror_mode": {
    "name": "ipython",
    "version": 3
   },
   "file_extension": ".py",
   "mimetype": "text/x-python",
   "name": "python",
   "nbconvert_exporter": "python",
   "pygments_lexer": "ipython3",
   "version": "3.9.13"
  },
  "vscode": {
   "interpreter": {
    "hash": "84b68b85187c196d589a79b2ce1fe9f0bf5e0a80770337b97d1579dd069da7d2"
   }
  }
 },
 "nbformat": 4,
 "nbformat_minor": 5
}
