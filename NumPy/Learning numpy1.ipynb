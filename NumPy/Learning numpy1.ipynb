{
 "cells": [
  {
   "cell_type": "code",
   "execution_count": 18,
   "id": "d3b84e69",
   "metadata": {},
   "outputs": [],
   "source": [
    "import numpy as np\n",
    "np.__version__\n"
   ]
  },
  {
   "cell_type": "markdown",
   "id": "4d34ac50",
   "metadata": {},
   "source": [
    "### Атрибуты массивов "
   ]
  },
  {
   "cell_type": "code",
   "execution_count": 24,
   "id": "6e61eee7",
   "metadata": {},
   "outputs": [
    {
     "data": {
      "text/plain": [
       "array([[[4, 8, 5],\n",
       "        [0, 0, 8],\n",
       "        [9, 6, 1]],\n",
       "\n",
       "       [[2, 5, 9],\n",
       "        [5, 9, 0],\n",
       "        [7, 7, 1]],\n",
       "\n",
       "       [[8, 5, 5],\n",
       "        [3, 9, 2],\n",
       "        [8, 1, 1]]])"
      ]
     },
     "execution_count": 24,
     "metadata": {},
     "output_type": "execute_result"
    }
   ],
   "source": [
    "x1 = np.random.randint(10, size = (5))\n",
    "x2 = np.random.randint(10, size = (2, 2))\n",
    "x3 = np.random.randint(10, size = (3, 3, 3))\n",
    "x3"
   ]
  },
  {
   "cell_type": "code",
   "execution_count": 21,
   "id": "5d9d8990",
   "metadata": {},
   "outputs": [],
   "source": [
    "x3.ndim # размерность\n",
    "x3.size # общий размер массива\n",
    "x3.shape # размер каждого измерения\n",
    "x3.dtype # тип данных массива\n",
    "x3.itemsize # размер (в байтах) каждого элемента массива\n",
    "x3.nbytes # полный размер массива (в байтах)\n"
   ]
  },
  {
   "cell_type": "code",
   "execution_count": 26,
   "id": "ebeb3b1b",
   "metadata": {},
   "outputs": [
    {
     "data": {
      "text/plain": [
       "108"
      ]
     },
     "execution_count": 26,
     "metadata": {},
     "output_type": "execute_result"
    }
   ],
   "source": [
    "x3.size * x3.itemsize\n",
    "x3.nbytes"
   ]
  },
  {
   "cell_type": "code",
   "execution_count": 34,
   "id": "7d003da0",
   "metadata": {},
   "outputs": [
    {
     "data": {
      "text/plain": [
       "True"
      ]
     },
     "execution_count": 34,
     "metadata": {},
     "output_type": "execute_result"
    }
   ],
   "source": [
    "x3[0, 0, 0] == x3[0][0][0]"
   ]
  },
  {
   "cell_type": "code",
   "execution_count": 28,
   "id": "2c5d3633",
   "metadata": {},
   "outputs": [
    {
     "data": {
      "text/plain": [
       "array([[[4, 5],\n",
       "        [0, 8],\n",
       "        [9, 1]],\n",
       "\n",
       "       [[2, 9],\n",
       "        [5, 0],\n",
       "        [7, 1]],\n",
       "\n",
       "       [[8, 5],\n",
       "        [3, 2],\n",
       "        [8, 1]]])"
      ]
     },
     "execution_count": 28,
     "metadata": {},
     "output_type": "execute_result"
    }
   ],
   "source": [
    "x3[:, :, 1:2] # вывести только средний столбец\n",
    "x3[:, :, ::2] # каждый второй столбец"
   ]
  },
  {
   "cell_type": "code",
   "execution_count": 61,
   "id": "54e04394",
   "metadata": {},
   "outputs": [
    {
     "data": {
      "text/plain": [
       "array([[9, 4, 0, 7],\n",
       "       [1, 0, 6, 4],\n",
       "       [2, 5, 8, 5],\n",
       "       [7, 1, 9, 2]])"
      ]
     },
     "execution_count": 61,
     "metadata": {},
     "output_type": "execute_result"
    }
   ],
   "source": [
    "x3 = np.random.randint(10, size = (4, 4))\n",
    "x3"
   ]
  },
  {
   "cell_type": "code",
   "execution_count": 66,
   "id": "6f6e9df0",
   "metadata": {},
   "outputs": [
    {
     "data": {
      "text/plain": [
       "array([[7, 4],\n",
       "       [0, 4],\n",
       "       [5, 5],\n",
       "       [1, 2]])"
      ]
     },
     "execution_count": 66,
     "metadata": {},
     "output_type": "execute_result"
    }
   ],
   "source": [
    "x3_copy = x3[:, 1::2].copy()\n",
    "x3_copy[0] = [7, 4]\n",
    "x3_copy"
   ]
  },
  {
   "cell_type": "code",
   "execution_count": 29,
   "id": "0aa73d07",
   "metadata": {},
   "outputs": [],
   "source": [
    "grid = np.eye(3, dtype='int32')\n",
    "grid = grid.reshape(9)"
   ]
  },
  {
   "cell_type": "code",
   "execution_count": 30,
   "id": "222b40ce",
   "metadata": {
    "scrolled": true
   },
   "outputs": [
    {
     "data": {
      "text/plain": [
       "array([[0],\n",
       "       [1],\n",
       "       [2],\n",
       "       [3],\n",
       "       [4],\n",
       "       [5],\n",
       "       [6],\n",
       "       [7],\n",
       "       [8],\n",
       "       [9]])"
      ]
     },
     "execution_count": 30,
     "metadata": {},
     "output_type": "execute_result"
    }
   ],
   "source": [
    "x = np.arange(10).reshape((1, 10))\n",
    "x = np.arange(10).reshape((10, 1))\n",
    "# или \n",
    "x = np.arange(10)\n",
    "x[np.newaxis, :]\n",
    "x[:, np.newaxis]"
   ]
  },
  {
   "cell_type": "markdown",
   "id": "d956018c",
   "metadata": {},
   "source": [
    "### Слияние и разбиение "
   ]
  },
  {
   "cell_type": "code",
   "execution_count": 95,
   "id": "a38b7a58",
   "metadata": {},
   "outputs": [
    {
     "data": {
      "text/plain": [
       "array([ 0,  1,  2,  3,  4,  5,  6,  7,  8,  9, 10, 11, 12, 13, 14, 15, 16,\n",
       "       17, 18, 19, 20, 21, 22, 23, 24, 25, 26, 27, 28, 29])"
      ]
     },
     "execution_count": 95,
     "metadata": {},
     "output_type": "execute_result"
    }
   ],
   "source": [
    "x = np.arange(10)\n",
    "y = np.arange(10, 20)\n",
    "z = np.arange(20, 30)\n",
    "np.concatenate([x, y, z])"
   ]
  },
  {
   "cell_type": "code",
   "execution_count": 97,
   "id": "c355479b",
   "metadata": {},
   "outputs": [
    {
     "data": {
      "text/plain": [
       "array([0, 1, 2, 3, 4, 5, 6, 7, 8, 9, 0, 1, 2, 3, 4, 5, 6, 7, 8, 9])"
      ]
     },
     "execution_count": 97,
     "metadata": {},
     "output_type": "execute_result"
    }
   ],
   "source": [
    "np.concatenate([x, x])"
   ]
  },
  {
   "cell_type": "code",
   "execution_count": 100,
   "id": "66f39743",
   "metadata": {},
   "outputs": [
    {
     "data": {
      "text/plain": [
       "array([[1, 2, 3, 1, 2, 3],\n",
       "       [4, 5, 6, 4, 5, 6]])"
      ]
     },
     "execution_count": 100,
     "metadata": {},
     "output_type": "execute_result"
    }
   ],
   "source": [
    "x = np.array([[1, 2, 3], [4, 5, 6]])\n",
    "np.concatenate([x, x], axis = 1)"
   ]
  },
  {
   "cell_type": "code",
   "execution_count": 105,
   "id": "325b6a30",
   "metadata": {},
   "outputs": [
    {
     "data": {
      "text/plain": [
       "array([[ 1,  2,  3, 99],\n",
       "       [ 4,  5,  6, 99]])"
      ]
     },
     "execution_count": 105,
     "metadata": {},
     "output_type": "execute_result"
    }
   ],
   "source": [
    "x = np.array([[1, 2, 3], [4, 5, 6]])\n",
    "y1 = np.array([7, 8, 9])\n",
    "y2 = np.array([[99], [99]])\n",
    "np.vstack([x, y1]) # объединить по вертикали\n",
    "np.hstack([x, y2]) # объединить по горизонтали\n"
   ]
  },
  {
   "cell_type": "code",
   "execution_count": 31,
   "id": "8d47d6b5",
   "metadata": {},
   "outputs": [
    {
     "name": "stdout",
     "output_type": "stream",
     "text": [
      "[1 2 3] [99 99 99] [3 2 1]\n",
      "[1 2 3] [99 99 99] [3 2 1]\n"
     ]
    }
   ],
   "source": [
    "x = np.array([1, 2, 3, 99, 99, 99, 3, 2, 1])\n",
    "x1, x2, x3 = np.split(x, 3)\n",
    "print(x1, x2, x3)\n",
    "x1, x2, x3 = np.split(x, [3,6])\n",
    "print(x1, x2, x3)"
   ]
  },
  {
   "cell_type": "code",
   "execution_count": 32,
   "id": "f2bea68e",
   "metadata": {},
   "outputs": [
    {
     "name": "stdout",
     "output_type": "stream",
     "text": [
      "grid = \n",
      " [[ 0  1  2  3]\n",
      " [ 4  5  6  7]\n",
      " [ 8  9 10 11]\n",
      " [12 13 14 15]]\n",
      "upper = \n",
      " [[0 1 2 3]\n",
      " [4 5 6 7]] \n",
      "lower = \n",
      " [[ 8  9 10 11]\n",
      " [12 13 14 15]]\n",
      "left = \n",
      " [[ 0  1]\n",
      " [ 4  5]\n",
      " [ 8  9]\n",
      " [12 13]] \n",
      "right = \n",
      " [[ 2  3]\n",
      " [ 6  7]\n",
      " [10 11]\n",
      " [14 15]]\n"
     ]
    }
   ],
   "source": [
    "grid = np.arange(16).reshape((4, 4))\n",
    "upper, lower = np.vsplit(grid, [2])\n",
    "left, right = np.hsplit(grid, [2])\n",
    "print('grid = \\n', grid)\n",
    "print('upper = \\n', upper, '\\nlower = \\n', lower)\n",
    "print('left = \\n', left, '\\nright = \\n', right)\n",
    "np.vsplit?"
   ]
  }
 ],
 "metadata": {
  "kernelspec": {
   "display_name": "Python 3 (ipykernel)",
   "language": "python",
   "name": "python3"
  },
  "language_info": {
   "codemirror_mode": {
    "name": "ipython",
    "version": 3
   },
   "file_extension": ".py",
   "mimetype": "text/x-python",
   "name": "python",
   "nbconvert_exporter": "python",
   "pygments_lexer": "ipython3",
   "version": "3.9.13"
  }
 },
 "nbformat": 4,
 "nbformat_minor": 5
}
