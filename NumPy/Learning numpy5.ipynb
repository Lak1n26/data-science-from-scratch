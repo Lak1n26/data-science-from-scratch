{
 "cells": [
  {
   "cell_type": "code",
   "execution_count": 99,
   "id": "33776b52",
   "metadata": {},
   "outputs": [],
   "source": [
    "import numpy as np\n",
    "import matplotlib.pyplot as plt\n",
    "import seaborn"
   ]
  },
  {
   "cell_type": "markdown",
   "id": "5d985634",
   "metadata": {},
   "source": [
    "## Сортировка массивов "
   ]
  },
  {
   "cell_type": "markdown",
   "id": "d65f1569",
   "metadata": {},
   "source": [
    "### Сортировка вставкой "
   ]
  },
  {
   "cell_type": "code",
   "execution_count": 6,
   "id": "51ebb0da",
   "metadata": {},
   "outputs": [
    {
     "name": "stdout",
     "output_type": "stream",
     "text": [
      "[4 6 5 1 0 1 8 9 4 1]\n",
      "[0 1 1 1 4 4 5 6 8 9]\n"
     ]
    }
   ],
   "source": [
    "x = np.random.randint(0, 10, 10)\n",
    "print(x)\n",
    "for i in range(len(x)):\n",
    "    swap = i + np.argmin(x[i:])\n",
    "    x[i], x[swap] = x[swap], x[i]\n",
    "print(x)"
   ]
  },
  {
   "cell_type": "markdown",
   "id": "a5137c72",
   "metadata": {},
   "source": [
    "### Случайная сортировка "
   ]
  },
  {
   "cell_type": "code",
   "execution_count": 8,
   "id": "f8a487f0",
   "metadata": {},
   "outputs": [
    {
     "name": "stdout",
     "output_type": "stream",
     "text": [
      "[9 6 8 2 3 1 8 1 9 3]\n",
      "[1 1 2 3 3 6 8 8 9 9]\n"
     ]
    }
   ],
   "source": [
    "x = np.random.randint(0, 10, 10)\n",
    "print(x)\n",
    "while np.any(x[:-1] > x[1:]):\n",
    "    np.random.shuffle(x)\n",
    "print(x)"
   ]
  },
  {
   "cell_type": "markdown",
   "id": "b29b38ae",
   "metadata": {},
   "source": [
    "### Быстрая сортировка "
   ]
  },
  {
   "cell_type": "code",
   "execution_count": 94,
   "id": "697e9a29",
   "metadata": {},
   "outputs": [
    {
     "name": "stdout",
     "output_type": "stream",
     "text": [
      "[4 4 2 5 1 5 1 4 1 5]\n",
      "1.3 µs ± 5.87 ns per loop (mean ± std. dev. of 7 runs, 1000000 loops each)\n",
      "277 ns ± 5.11 ns per loop (mean ± std. dev. of 7 runs, 1000000 loops each)\n"
     ]
    },
    {
     "data": {
      "text/plain": [
       "array([1, 1, 1, 2, 4, 4, 4, 5, 5, 5])"
      ]
     },
     "execution_count": 94,
     "metadata": {},
     "output_type": "execute_result"
    }
   ],
   "source": [
    "x = np.random.randint(0, 10, 10)\n",
    "print(x)\n",
    "%timeit np.sort(x)\n",
    "%timeit x.sort()\n",
    "x"
   ]
  },
  {
   "cell_type": "code",
   "execution_count": 16,
   "id": "0138d5a1",
   "metadata": {},
   "outputs": [
    {
     "data": {
      "text/plain": [
       "array([1, 2, 3, 5, 7, 7, 8, 8, 8, 9])"
      ]
     },
     "execution_count": 16,
     "metadata": {},
     "output_type": "execute_result"
    }
   ],
   "source": [
    "ind = np.argsort(x)\n",
    "x[ind]"
   ]
  },
  {
   "cell_type": "code",
   "execution_count": 24,
   "id": "ed30e727",
   "metadata": {},
   "outputs": [
    {
     "name": "stdout",
     "output_type": "stream",
     "text": [
      "[[1 3 8 4 4 0]\n",
      " [9 3 6 5 9 8]\n",
      " [4 2 0 5 3 0]\n",
      " [2 6 7 9 6 9]]\n"
     ]
    }
   ],
   "source": [
    "x = np.random.randint(0, 10, size = (4, 6))\n",
    "print(x)"
   ]
  },
  {
   "cell_type": "code",
   "execution_count": 26,
   "id": "ef5aac1d",
   "metadata": {},
   "outputs": [
    {
     "data": {
      "text/plain": [
       "array([[0, 1, 3, 4, 4, 8],\n",
       "       [3, 5, 6, 8, 9, 9],\n",
       "       [0, 0, 2, 3, 4, 5],\n",
       "       [2, 6, 6, 7, 9, 9]])"
      ]
     },
     "execution_count": 26,
     "metadata": {},
     "output_type": "execute_result"
    }
   ],
   "source": [
    "np.sort(x, axis = 1) # сортировка по строкам"
   ]
  },
  {
   "cell_type": "code",
   "execution_count": 28,
   "id": "4787bd9e",
   "metadata": {},
   "outputs": [
    {
     "data": {
      "text/plain": [
       "array([[1, 2, 0, 4, 3, 0],\n",
       "       [2, 3, 6, 5, 4, 0],\n",
       "       [4, 3, 7, 5, 6, 8],\n",
       "       [9, 6, 8, 9, 9, 9]])"
      ]
     },
     "execution_count": 28,
     "metadata": {},
     "output_type": "execute_result"
    }
   ],
   "source": [
    "np.sort(x, axis = 0) # сортировка по столбцам"
   ]
  },
  {
   "cell_type": "markdown",
   "id": "683b8fe7",
   "metadata": {},
   "source": [
    "### Частичные сортировки: секционирование "
   ]
  },
  {
   "cell_type": "code",
   "execution_count": 35,
   "id": "7f90fb27",
   "metadata": {},
   "outputs": [
    {
     "data": {
      "text/plain": [
       "array([[0, 1, 3, 4, 4, 8],\n",
       "       [5, 6, 3, 8, 9, 9],\n",
       "       [0, 0, 2, 3, 4, 5],\n",
       "       [6, 2, 6, 7, 9, 9]])"
      ]
     },
     "execution_count": 35,
     "metadata": {},
     "output_type": "execute_result"
    }
   ],
   "source": [
    "np.partition(x, 3, axis = 1)"
   ]
  },
  {
   "cell_type": "code",
   "execution_count": 97,
   "id": "da468e73",
   "metadata": {},
   "outputs": [
    {
     "data": {
      "text/plain": [
       "array([2, 1, 0, 3, 6, 4, 5, 7, 8, 9], dtype=int64)"
      ]
     },
     "execution_count": 97,
     "metadata": {},
     "output_type": "execute_result"
    }
   ],
   "source": [
    "np.argpartition(x, 3)"
   ]
  }
 ],
 "metadata": {
  "kernelspec": {
   "display_name": "Python 3 (ipykernel)",
   "language": "python",
   "name": "python3"
  },
  "language_info": {
   "codemirror_mode": {
    "name": "ipython",
    "version": 3
   },
   "file_extension": ".py",
   "mimetype": "text/x-python",
   "name": "python",
   "nbconvert_exporter": "python",
   "pygments_lexer": "ipython3",
   "version": "3.9.13"
  },
  "vscode": {
   "interpreter": {
    "hash": "84b68b85187c196d589a79b2ce1fe9f0bf5e0a80770337b97d1579dd069da7d2"
   }
  }
 },
 "nbformat": 4,
 "nbformat_minor": 5
}
