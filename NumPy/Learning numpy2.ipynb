{
 "cells": [
  {
   "cell_type": "code",
   "execution_count": 15,
   "id": "658ca28e",
   "metadata": {},
   "outputs": [],
   "source": [
    "import numpy as np"
   ]
  },
  {
   "cell_type": "code",
   "execution_count": 6,
   "id": "50691e6c",
   "metadata": {},
   "outputs": [
    {
     "data": {
      "text/plain": [
       "array([0, 1, 2, 3, 4, 5, 6, 7, 8, 9])"
      ]
     },
     "execution_count": 6,
     "metadata": {},
     "output_type": "execute_result"
    }
   ],
   "source": [
    "x = np.arange(10)\n",
    "y = np.arange(10, 20)\n",
    "z = np.linspace(0, 1, 10)"
   ]
  },
  {
   "cell_type": "code",
   "execution_count": 81,
   "id": "9f328714",
   "metadata": {},
   "outputs": [
    {
     "data": {
      "text/plain": [
       "array([[[ 1,  2,  3,  4],\n",
       "        [ 2,  4,  6,  8],\n",
       "        [ 3,  6,  9, 12]],\n",
       "\n",
       "       [[ 4,  8, 12, 16],\n",
       "        [ 5, 10, 15, 20],\n",
       "        [ 6, 12, 18, 24]]])"
      ]
     },
     "execution_count": 81,
     "metadata": {},
     "output_type": "execute_result"
    }
   ],
   "source": [
    "x = np.arange(1, 6)\n",
    "np.add.reduce(x)\n",
    "np.multiply.reduce(x)\n",
    "np.add.accumulate(x) # = np.cumsum(x)\n",
    "np.multiply.accumulate(x) # = np.cumproduct(x)\n",
    "a = np.array([[1, 2, 3], [4, 5, 6]])\n",
    "b = np.array([1, 2, 3, 4])\n",
    "x = np.multiply.outer(a, b)\n",
    "x"
   ]
  },
  {
   "cell_type": "markdown",
   "id": "1ae7e580",
   "metadata": {},
   "source": [
    "### Агрегирование "
   ]
  },
  {
   "cell_type": "code",
   "execution_count": 34,
   "id": "7e728423",
   "metadata": {},
   "outputs": [
    {
     "name": "stdout",
     "output_type": "stream",
     "text": [
      "6.41 µs ± 54.8 ns per loop (mean ± std. dev. of 7 runs, 100,000 loops each)\n",
      "2.84 µs ± 30.4 ns per loop (mean ± std. dev. of 7 runs, 100,000 loops each)\n",
      "1.13 µs ± 6.71 ns per loop (mean ± std. dev. of 7 runs, 1,000,000 loops each)\n"
     ]
    }
   ],
   "source": [
    "L = np.random.random(100)\n",
    "%timeit sum(L)\n",
    "%timeit np.sum(L)\n",
    "%timeit L.sum()"
   ]
  },
  {
   "cell_type": "code",
   "execution_count": 37,
   "id": "b1906ed6",
   "metadata": {},
   "outputs": [
    {
     "data": {
      "text/plain": [
       "True"
      ]
     },
     "execution_count": 37,
     "metadata": {},
     "output_type": "execute_result"
    }
   ],
   "source": [
    "np.min(L)\n",
    "L.min()\n",
    "np.max(L) == L.max()"
   ]
  },
  {
   "cell_type": "code",
   "execution_count": 39,
   "id": "f6999a04",
   "metadata": {},
   "outputs": [
    {
     "data": {
      "text/plain": [
       "array([[0.10282566, 0.35308966, 0.17745314, 0.64274831],\n",
       "       [0.15803948, 0.96137614, 0.0144    , 0.83424533],\n",
       "       [0.92114889, 0.75628817, 0.09410283, 0.44997971]])"
      ]
     },
     "execution_count": 39,
     "metadata": {},
     "output_type": "execute_result"
    }
   ],
   "source": [
    "M = np.random.random((3, 4))\n",
    "M"
   ]
  },
  {
   "cell_type": "code",
   "execution_count": 44,
   "id": "357725de",
   "metadata": {},
   "outputs": [
    {
     "data": {
      "text/plain": [
       "array([1.18201403, 2.07075397, 0.28595596, 1.92697334])"
      ]
     },
     "execution_count": 44,
     "metadata": {},
     "output_type": "execute_result"
    }
   ],
   "source": [
    "M.sum(axis = 0) # axis - ось, по которой вычисляется сводный показатель (axis = 0 - по столбцам)"
   ]
  },
  {
   "cell_type": "code",
   "execution_count": 46,
   "id": "2a6269d3",
   "metadata": {},
   "outputs": [
    {
     "data": {
      "text/plain": [
       "array([1.27611677, 1.96806095, 2.22151959])"
      ]
     },
     "execution_count": 46,
     "metadata": {},
     "output_type": "execute_result"
    }
   ],
   "source": [
    "M.sum(axis = 1) # сумма по строкам"
   ]
  },
  {
   "cell_type": "markdown",
   "id": "4aee6422",
   "metadata": {},
   "source": [
    "### Другие функции агрегирования "
   ]
  },
  {
   "cell_type": "code",
   "execution_count": 64,
   "id": "9954539a",
   "metadata": {},
   "outputs": [
    {
     "data": {
      "text/plain": [
       "True"
      ]
     },
     "execution_count": 64,
     "metadata": {},
     "output_type": "execute_result"
    }
   ],
   "source": [
    "# np.sum, np.prod, np.min, np.max ранее рассмотрены\n",
    "np.mean(L) # среднее значение\n",
    "np.std(L) # стандартное отклонение\n",
    "np.var(L) # дисперсия\n",
    "np.argmax(L) # индекс макс значения\n",
    "np.argmin(L) # индекс мин значения\n",
    "np.median(L) # медиана\n",
    "np.percentile(L, 25)\n",
    "np.percentile(L, 75)\n",
    "np.any(L) # существуют ли элемененты со значением True\n",
    "np.all(L) # все ли элементы True"
   ]
  },
  {
   "cell_type": "markdown",
   "id": "970fd975",
   "metadata": {},
   "source": [
    "### Пример "
   ]
  },
  {
   "cell_type": "code",
   "execution_count": 77,
   "id": "fd8530eb",
   "metadata": {},
   "outputs": [
    {
     "name": "stdout",
     "output_type": "stream",
     "text": [
      "Среднее значение роста = 179.48837209302326\n",
      "Минимальное значение роста = 163\n",
      "Максимальное значение роста = 193\n",
      "Стандартное отклонение = 8.702771793216376\n",
      "Медиана = 179.0\n"
     ]
    }
   ],
   "source": [
    "heights = np.random.randint(163, 194, 43)\n",
    "print(f\"Среднее значение роста = {heights.mean()}\")\n",
    "print(f\"Минимальное значение роста = {heights.min()}\")\n",
    "print(f\"Максимальное значение роста = {heights.max()}\")\n",
    "print(f\"Стандартное отклонение = {heights.std()}\")\n",
    "print(f\"Медиана = {np.median(heights)}\")"
   ]
  }
 ],
 "metadata": {
  "kernelspec": {
   "display_name": "Python 3 (ipykernel)",
   "language": "python",
   "name": "python3"
  },
  "language_info": {
   "codemirror_mode": {
    "name": "ipython",
    "version": 3
   },
   "file_extension": ".py",
   "mimetype": "text/x-python",
   "name": "python",
   "nbconvert_exporter": "python",
   "pygments_lexer": "ipython3",
   "version": "3.9.5"
  },
  "vscode": {
   "interpreter": {
    "hash": "84b68b85187c196d589a79b2ce1fe9f0bf5e0a80770337b97d1579dd069da7d2"
   }
  }
 },
 "nbformat": 4,
 "nbformat_minor": 5
}
