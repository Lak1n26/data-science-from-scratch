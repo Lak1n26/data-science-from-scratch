{
 "cells": [
  {
   "cell_type": "code",
   "execution_count": 1,
   "id": "33776b52",
   "metadata": {},
   "outputs": [],
   "source": [
    "import numpy as np\n",
    "import matplotlib.pyplot as plt\n",
    "import seaborn"
   ]
  },
  {
   "cell_type": "markdown",
   "id": "59b6079f",
   "metadata": {},
   "source": [
    "### Структурированные данные "
   ]
  },
  {
   "cell_type": "code",
   "execution_count": 33,
   "id": "1e49fbab",
   "metadata": {},
   "outputs": [],
   "source": [
    "name = ['Danila', 'Kate', 'Vlad']\n",
    "age = [21, 21, 20]\n",
    "weight = [68, 48, 60]"
   ]
  },
  {
   "cell_type": "code",
   "execution_count": 15,
   "id": "05e37660",
   "metadata": {},
   "outputs": [
    {
     "data": {
      "text/plain": [
       "dtype([('name', '<U10'), ('age', '<i4'), ('weight', '<f8')])"
      ]
     },
     "execution_count": 15,
     "metadata": {},
     "output_type": "execute_result"
    }
   ],
   "source": [
    "data = np.zeros(3, dtype = {'names': ('name', 'age', 'weight'), 'formats':('U10', 'i4', 'f8')})\n",
    "# U10 - Unicode string with max length = 10\n",
    "# i4 - 32-bit integer\n",
    "# f8 - 64-bit float\n",
    "data.dtype"
   ]
  },
  {
   "cell_type": "code",
   "execution_count": 16,
   "id": "dd49ed36",
   "metadata": {},
   "outputs": [
    {
     "data": {
      "text/plain": [
       "array([('Danila', 21, 68.), ('Kate', 21, 48.), ('Vlad', 20, 60.)],\n",
       "      dtype=[('name', '<U10'), ('age', '<i4'), ('weight', '<f8')])"
      ]
     },
     "execution_count": 16,
     "metadata": {},
     "output_type": "execute_result"
    }
   ],
   "source": [
    "data['name'] = name\n",
    "data['age'] = age\n",
    "data['weight'] = weight\n",
    "data"
   ]
  },
  {
   "cell_type": "code",
   "execution_count": 20,
   "id": "83580cb1",
   "metadata": {},
   "outputs": [
    {
     "data": {
      "text/plain": [
       "array([('Danila', 21, 68.)],\n",
       "      dtype=[('name', '<U10'), ('age', '<i4'), ('weight', '<f8')])"
      ]
     },
     "execution_count": 20,
     "metadata": {},
     "output_type": "execute_result"
    }
   ],
   "source": [
    "data[data['name'] == 'Danila']"
   ]
  },
  {
   "cell_type": "code",
   "execution_count": 22,
   "id": "e1d68743",
   "metadata": {},
   "outputs": [
    {
     "data": {
      "text/plain": [
       "array([('Danila', 21, 68.), ('Kate', 21, 48.)],\n",
       "      dtype=[('name', '<U10'), ('age', '<i4'), ('weight', '<f8')])"
      ]
     },
     "execution_count": 22,
     "metadata": {},
     "output_type": "execute_result"
    }
   ],
   "source": [
    "data[data['age'] == 21]"
   ]
  },
  {
   "cell_type": "code",
   "execution_count": 37,
   "id": "59181214",
   "metadata": {},
   "outputs": [
    {
     "data": {
      "text/plain": [
       "array([(b'Danila', 21, 68.), (b'Kate', 21, 48.), (b'Vlad', 20, 60.)],\n",
       "      dtype=[('n', 'S10'), ('a', '<i4'), ('w', '<f8')])"
      ]
     },
     "execution_count": 37,
     "metadata": {},
     "output_type": "execute_result"
    }
   ],
   "source": [
    "data_type0 = np.dtype({'names': ('name', 'age', 'weight'), 'formats': (np.str0, int, np.float64)})\n",
    "data_type1 = np.dtype([('name', 'S10'), ('age', int), ('weight', np.float64)])\n",
    "data_type2 = np.dtype({'names': ('name', 'age', 'weight'), 'formats':('U10', 'i4', 'f8')})\n",
    "data_type3 = np.dtype([('n', 'S10'), ('a', '<i4'), ('w', 'f8')])\n",
    "data_type3\n",
    "data2 = np.zeros(3, dtype = data_type3)\n",
    "data2['n'] = name\n",
    "data2['a'] = age\n",
    "data2['w'] = weight\n",
    "data2"
   ]
  },
  {
   "cell_type": "markdown",
   "id": "52bb99ca",
   "metadata": {},
   "source": [
    "### Более продвинутые типы данных "
   ]
  },
  {
   "cell_type": "code",
   "execution_count": 43,
   "id": "2c8d2b70",
   "metadata": {},
   "outputs": [
    {
     "data": {
      "text/plain": [
       "array([(0, [[0., 0., 0.], [0., 0., 0.], [0., 0., 0.]])],\n",
       "      dtype=[('id', '<i4'), ('mat', '<f8', (3, 3))])"
      ]
     },
     "execution_count": 43,
     "metadata": {},
     "output_type": "execute_result"
    }
   ],
   "source": [
    "tp = np.dtype([('id', 'i4'), ('mat', 'f8', (3, 3))])\n",
    "x = np.zeros(1, dtype = tp)\n",
    "x['mat']\n",
    "x"
   ]
  },
  {
   "cell_type": "markdown",
   "id": "63e01b6a",
   "metadata": {},
   "source": [
    "### Массивы записей "
   ]
  },
  {
   "cell_type": "code",
   "execution_count": 50,
   "id": "71c8f647",
   "metadata": {},
   "outputs": [
    {
     "name": "stdout",
     "output_type": "stream",
     "text": [
      "118 ns ± 29.7 ns per loop (mean ± std. dev. of 7 runs, 10000000 loops each)\n",
      "1.61 µs ± 7.52 ns per loop (mean ± std. dev. of 7 runs, 1000000 loops each)\n",
      "2.47 µs ± 30.4 ns per loop (mean ± std. dev. of 7 runs, 100000 loops each)\n"
     ]
    }
   ],
   "source": [
    "data_rec = data.view(np.recarray)\n",
    "%timeit data['age']\n",
    "%timeit data_rec['age']\n",
    "%timeit data_rec.age"
   ]
  }
 ],
 "metadata": {
  "kernelspec": {
   "display_name": "Python 3 (ipykernel)",
   "language": "python",
   "name": "python3"
  },
  "language_info": {
   "codemirror_mode": {
    "name": "ipython",
    "version": 3
   },
   "file_extension": ".py",
   "mimetype": "text/x-python",
   "name": "python",
   "nbconvert_exporter": "python",
   "pygments_lexer": "ipython3",
   "version": "3.9.13"
  },
  "vscode": {
   "interpreter": {
    "hash": "84b68b85187c196d589a79b2ce1fe9f0bf5e0a80770337b97d1579dd069da7d2"
   }
  }
 },
 "nbformat": 4,
 "nbformat_minor": 5
}
