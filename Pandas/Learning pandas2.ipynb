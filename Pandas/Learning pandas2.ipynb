{
 "cells": [
  {
   "cell_type": "code",
   "execution_count": 3,
   "id": "4c32f636",
   "metadata": {},
   "outputs": [],
   "source": [
    "import pandas as pd\n",
    "import numpy as np"
   ]
  },
  {
   "cell_type": "markdown",
   "id": "e147a792",
   "metadata": {},
   "source": [
    "# Индексация и выборка данных "
   ]
  },
  {
   "cell_type": "markdown",
   "id": "1f3a3d60",
   "metadata": {},
   "source": [
    "## Выборка данных из объкта Series"
   ]
  },
  {
   "cell_type": "code",
   "execution_count": 4,
   "id": "265c4339",
   "metadata": {},
   "outputs": [
    {
     "data": {
      "text/plain": [
       "a    0.25\n",
       "b    0.50\n",
       "c    0.75\n",
       "d    1.00\n",
       "dtype: float64"
      ]
     },
     "execution_count": 4,
     "metadata": {},
     "output_type": "execute_result"
    }
   ],
   "source": [
    "data = pd.Series([0.25, 0.5, 0.75, 1], index=['a', 'b', 'c', 'd'])\n",
    "data"
   ]
  },
  {
   "cell_type": "code",
   "execution_count": 5,
   "id": "210c812d",
   "metadata": {},
   "outputs": [
    {
     "name": "stdout",
     "output_type": "stream",
     "text": [
      "0.5\n",
      "True\n",
      "Index(['a', 'b', 'c', 'd'], dtype='object')\n",
      "('a', 0.25) ('b', 0.5) ('c', 0.75) ('d', 1.0)\n"
     ]
    },
    {
     "data": {
      "text/plain": [
       "a    0.25\n",
       "b    0.50\n",
       "c    0.75\n",
       "d    1.00\n",
       "e    1.25\n",
       "dtype: float64"
      ]
     },
     "execution_count": 5,
     "metadata": {},
     "output_type": "execute_result"
    }
   ],
   "source": [
    "print(data['b'])\n",
    "print('a' in data)\n",
    "print(data.keys())\n",
    "print(*data.items())\n",
    "data['e'] = 1.25\n",
    "data"
   ]
  },
  {
   "cell_type": "code",
   "execution_count": 6,
   "id": "543dd693",
   "metadata": {},
   "outputs": [
    {
     "name": "stdout",
     "output_type": "stream",
     "text": [
      "a    0.25\n",
      "b    0.50\n",
      "c    0.75\n",
      "dtype: float64\n",
      "----------\n",
      "a    0.25\n",
      "b    0.50\n",
      "dtype: float64\n",
      "----------\n",
      "b    0.50\n",
      "c    0.75\n",
      "dtype: float64\n",
      "----------\n",
      "a    0.25\n",
      "e    1.25\n",
      "dtype: float64\n"
     ]
    }
   ],
   "source": [
    "# срез посредством явного индексса\n",
    "print(data['a':'c'])\n",
    "print('----------')\n",
    "# срез посредством неявного целочисленного индекса\n",
    "print(data[0:2])\n",
    "print('----------')\n",
    "# маскирование\n",
    "print(data[(data > 0.3) & (data < 0.8)])\n",
    "print('----------')\n",
    "# \"прихотливая\" индексация\n",
    "print(data[['a', 'e']])"
   ]
  },
  {
   "cell_type": "markdown",
   "id": "d32dffc2",
   "metadata": {},
   "source": [
    "### Индексаторы: loc, iloc, ix "
   ]
  },
  {
   "cell_type": "code",
   "execution_count": 7,
   "id": "8c06afa5",
   "metadata": {},
   "outputs": [
    {
     "name": "stdout",
     "output_type": "stream",
     "text": [
      "3    b\n",
      "5    c\n",
      "dtype: object\n",
      "----------\n",
      "1    a\n",
      "3    b\n",
      "dtype: object\n"
     ]
    }
   ],
   "source": [
    "data = pd.Series(['a', 'b', 'c'], index=[1, 3, 5])\n",
    "# loc - индексация и срезы с использованием явного индекса\n",
    "print(data.loc[[3, 5]])\n",
    "print('----------')\n",
    "print(data.loc[1:3])"
   ]
  },
  {
   "cell_type": "code",
   "execution_count": 8,
   "id": "9b3b588c",
   "metadata": {},
   "outputs": [
    {
     "name": "stdout",
     "output_type": "stream",
     "text": [
      "c\n",
      "----------\n",
      "3    b\n",
      "5    c\n",
      "dtype: object\n"
     ]
    }
   ],
   "source": [
    "data = pd.Series(['a', 'b', 'c'], index=[1, 3, 5])\n",
    "# iloc - индексация и срезы с использованием неявного индекса\n",
    "print(data.iloc[2])\n",
    "print('----------')\n",
    "print(data.iloc[1:3])"
   ]
  },
  {
   "cell_type": "code",
   "execution_count": 9,
   "id": "1cfce3b7",
   "metadata": {},
   "outputs": [],
   "source": [
    "data = pd.Series(['a', 'b', 'c'], index=[1, 3, 5])\n",
    "# ix - гибрид loc и iloc (эквивалентен индексации с помощью [])"
   ]
  },
  {
   "cell_type": "code",
   "execution_count": null,
   "id": "84ac561b",
   "metadata": {},
   "outputs": [],
   "source": []
  },
  {
   "cell_type": "markdown",
   "id": "ddc25c92",
   "metadata": {},
   "source": [
    "## Выборка данных из объекта DataFrame "
   ]
  },
  {
   "cell_type": "code",
   "execution_count": 10,
   "id": "7597035d",
   "metadata": {},
   "outputs": [
    {
     "data": {
      "text/html": [
       "<div>\n",
       "<style scoped>\n",
       "    .dataframe tbody tr th:only-of-type {\n",
       "        vertical-align: middle;\n",
       "    }\n",
       "\n",
       "    .dataframe tbody tr th {\n",
       "        vertical-align: top;\n",
       "    }\n",
       "\n",
       "    .dataframe thead th {\n",
       "        text-align: right;\n",
       "    }\n",
       "</style>\n",
       "<table border=\"1\" class=\"dataframe\">\n",
       "  <thead>\n",
       "    <tr style=\"text-align: right;\">\n",
       "      <th></th>\n",
       "      <th>area</th>\n",
       "      <th>population</th>\n",
       "    </tr>\n",
       "  </thead>\n",
       "  <tbody>\n",
       "    <tr>\n",
       "      <th>California</th>\n",
       "      <td>423967</td>\n",
       "      <td>38332521</td>\n",
       "    </tr>\n",
       "    <tr>\n",
       "      <th>Texas</th>\n",
       "      <td>695662</td>\n",
       "      <td>26448193</td>\n",
       "    </tr>\n",
       "    <tr>\n",
       "      <th>New York</th>\n",
       "      <td>141297</td>\n",
       "      <td>19651127</td>\n",
       "    </tr>\n",
       "    <tr>\n",
       "      <th>Florida</th>\n",
       "      <td>170312</td>\n",
       "      <td>19552860</td>\n",
       "    </tr>\n",
       "    <tr>\n",
       "      <th>Illinois</th>\n",
       "      <td>149995</td>\n",
       "      <td>12882135</td>\n",
       "    </tr>\n",
       "  </tbody>\n",
       "</table>\n",
       "</div>"
      ],
      "text/plain": [
       "              area  population\n",
       "California  423967    38332521\n",
       "Texas       695662    26448193\n",
       "New York    141297    19651127\n",
       "Florida     170312    19552860\n",
       "Illinois    149995    12882135"
      ]
     },
     "execution_count": 10,
     "metadata": {},
     "output_type": "execute_result"
    }
   ],
   "source": [
    "area = pd.Series({'California': 423967, 'Texas': 695662, 'New York': 141297, 'Florida': 170312, 'Illinois': 149995})\n",
    "pop = pd.Series({'California': 38332521, 'Texas': 26448193, 'New York': 19651127, 'Florida': 19552860, 'Illinois': 12882135})\n",
    "data = pd.DataFrame({'area' : area, 'population': pop})\n",
    "data"
   ]
  },
  {
   "cell_type": "code",
   "execution_count": 11,
   "id": "3e050a99",
   "metadata": {},
   "outputs": [
    {
     "name": "stdout",
     "output_type": "stream",
     "text": [
      "California    423967\n",
      "Texas         695662\n",
      "New York      141297\n",
      "Florida       170312\n",
      "Illinois      149995\n",
      "Name: area, dtype: int64\n",
      "-----------\n",
      "California    423967\n",
      "Texas         695662\n",
      "New York      141297\n",
      "Florida       170312\n",
      "Illinois      149995\n",
      "Name: area, dtype: int64\n",
      "-----------\n",
      "True\n"
     ]
    }
   ],
   "source": [
    "print(data['area'])\n",
    "print('-----------')\n",
    "print(data.area)\n",
    "print('-----------')\n",
    "print(data['area'] is data.area)"
   ]
  },
  {
   "cell_type": "code",
   "execution_count": 12,
   "id": "70788ea0",
   "metadata": {},
   "outputs": [
    {
     "data": {
      "text/html": [
       "<div>\n",
       "<style scoped>\n",
       "    .dataframe tbody tr th:only-of-type {\n",
       "        vertical-align: middle;\n",
       "    }\n",
       "\n",
       "    .dataframe tbody tr th {\n",
       "        vertical-align: top;\n",
       "    }\n",
       "\n",
       "    .dataframe thead th {\n",
       "        text-align: right;\n",
       "    }\n",
       "</style>\n",
       "<table border=\"1\" class=\"dataframe\">\n",
       "  <thead>\n",
       "    <tr style=\"text-align: right;\">\n",
       "      <th></th>\n",
       "      <th>area</th>\n",
       "      <th>population</th>\n",
       "      <th>density</th>\n",
       "    </tr>\n",
       "  </thead>\n",
       "  <tbody>\n",
       "    <tr>\n",
       "      <th>California</th>\n",
       "      <td>423967</td>\n",
       "      <td>38332521</td>\n",
       "      <td>90.413926</td>\n",
       "    </tr>\n",
       "    <tr>\n",
       "      <th>Texas</th>\n",
       "      <td>695662</td>\n",
       "      <td>26448193</td>\n",
       "      <td>38.018740</td>\n",
       "    </tr>\n",
       "    <tr>\n",
       "      <th>New York</th>\n",
       "      <td>141297</td>\n",
       "      <td>19651127</td>\n",
       "      <td>139.076746</td>\n",
       "    </tr>\n",
       "    <tr>\n",
       "      <th>Florida</th>\n",
       "      <td>170312</td>\n",
       "      <td>19552860</td>\n",
       "      <td>114.806121</td>\n",
       "    </tr>\n",
       "    <tr>\n",
       "      <th>Illinois</th>\n",
       "      <td>149995</td>\n",
       "      <td>12882135</td>\n",
       "      <td>85.883763</td>\n",
       "    </tr>\n",
       "  </tbody>\n",
       "</table>\n",
       "</div>"
      ],
      "text/plain": [
       "              area  population     density\n",
       "California  423967    38332521   90.413926\n",
       "Texas       695662    26448193   38.018740\n",
       "New York    141297    19651127  139.076746\n",
       "Florida     170312    19552860  114.806121\n",
       "Illinois    149995    12882135   85.883763"
      ]
     },
     "execution_count": 12,
     "metadata": {},
     "output_type": "execute_result"
    }
   ],
   "source": [
    "# рассчитаем плотность\n",
    "data['density'] = data['population'] / data['area']\n",
    "data"
   ]
  },
  {
   "cell_type": "code",
   "execution_count": 13,
   "id": "2407df4e",
   "metadata": {},
   "outputs": [
    {
     "name": "stdout",
     "output_type": "stream",
     "text": [
      "[[4.23967000e+05 3.83325210e+07 9.04139261e+01]\n",
      " [6.95662000e+05 2.64481930e+07 3.80187404e+01]\n",
      " [1.41297000e+05 1.96511270e+07 1.39076746e+02]\n",
      " [1.70312000e+05 1.95528600e+07 1.14806121e+02]\n",
      " [1.49995000e+05 1.28821350e+07 8.58837628e+01]]\n",
      "---------\n",
      "              California         Texas      New York       Florida  \\\n",
      "area        4.239670e+05  6.956620e+05  1.412970e+05  1.703120e+05   \n",
      "population  3.833252e+07  2.644819e+07  1.965113e+07  1.955286e+07   \n",
      "density     9.041393e+01  3.801874e+01  1.390767e+02  1.148061e+02   \n",
      "\n",
      "                Illinois  \n",
      "area        1.499950e+05  \n",
      "population  1.288214e+07  \n",
      "density     8.588376e+01  \n",
      "---------\n"
     ]
    }
   ],
   "source": [
    "print(data.values) # посмотреть все значения в виде двумерного массива\n",
    "print('---------')\n",
    "print(data.T) # транспонировать DataFrame\n",
    "print('---------')"
   ]
  },
  {
   "cell_type": "code",
   "execution_count": 14,
   "id": "88da7e01",
   "metadata": {},
   "outputs": [
    {
     "name": "stdout",
     "output_type": "stream",
     "text": [
      "[4.23967000e+05 3.83325210e+07 9.04139261e+01]\n",
      "-----------\n",
      "California    423967\n",
      "Texas         695662\n",
      "New York      141297\n",
      "Florida       170312\n",
      "Illinois      149995\n",
      "Name: area, dtype: int64\n"
     ]
    }
   ],
   "source": [
    "# доступ к строке:\n",
    "print(data.values[0])\n",
    "print('-----------')\n",
    "# доступ к столбцу:\n",
    "print(data['area'])"
   ]
  },
  {
   "cell_type": "code",
   "execution_count": 15,
   "id": "5577bcd8",
   "metadata": {},
   "outputs": [
    {
     "name": "stdout",
     "output_type": "stream",
     "text": [
      "              area  population\n",
      "California  423967    38332521\n",
      "Texas       695662    26448193\n",
      "New York    141297    19651127\n",
      "-----------\n",
      "              area  population\n",
      "California  423967    38332521\n",
      "Texas       695662    26448193\n",
      "New York    141297    19651127\n",
      "Florida     170312    19552860\n",
      "Illinois    149995    12882135\n",
      "-----------\n"
     ]
    }
   ],
   "source": [
    "print(data.iloc[:3, :2])\n",
    "print('-----------')\n",
    "print(data.loc[:'Illinois', :'population'])\n",
    "print('-----------')\n",
    "# print(data.ix[:2, :'population']) # не работает в последних версиях Pandas"
   ]
  },
  {
   "cell_type": "code",
   "execution_count": 17,
   "id": "b786036d",
   "metadata": {},
   "outputs": [
    {
     "name": "stdout",
     "output_type": "stream",
     "text": [
      "              area  population     density\n",
      "California  423967    38332521   90.413926\n",
      "Texas       695662    26448193   38.018740\n",
      "New York    141297    19651127  139.076746\n",
      "Florida     170312    19552860  114.806121\n",
      "Illinois    149995    12882135   85.883763\n"
     ]
    }
   ],
   "source": [
    "print(data)"
   ]
  },
  {
   "cell_type": "code",
   "execution_count": 33,
   "id": "a8bbb7b8",
   "metadata": {},
   "outputs": [
    {
     "name": "stdout",
     "output_type": "stream",
     "text": [
      "            area  population     density\n",
      "Texas     695662    26448193   38.018740\n",
      "New York  141297    19651127  139.076746\n",
      "Florida   170312    19552860  114.806121\n",
      "----------------------------------------\n",
      "            area  population     density\n",
      "Texas     695662    26448193   38.018740\n",
      "New York  141297    19651127  139.076746\n",
      "Florida   170312    19552860  114.806121\n",
      "----------------------------------------\n",
      "            area  population     density\n",
      "New York  141297    19651127  139.076746\n",
      "Florida   170312    19552860  114.806121\n"
     ]
    }
   ],
   "source": [
    "# Срезы относятся к строкам\n",
    "print(data['Texas':'Florida'])\n",
    "print('----------------------------------------')\n",
    "# можно ссылаться по номеру строки\n",
    "print(data[1:4])\n",
    "print('----------------------------------------')\n",
    "# операции маскирования интерпретируются построчно\n",
    "print(data[data.density > 100])"
   ]
  },
  {
   "cell_type": "markdown",
   "id": "f7f8c663",
   "metadata": {},
   "source": [
    "## Выравнивание индексов "
   ]
  },
  {
   "cell_type": "code",
   "execution_count": 39,
   "id": "9d7ed50f",
   "metadata": {},
   "outputs": [
    {
     "data": {
      "text/plain": [
       "Alaska               NaN\n",
       "California     90.413926\n",
       "Florida       114.806121\n",
       "Illinois       85.883763\n",
       "New York             NaN\n",
       "Texas          38.018740\n",
       "dtype: float64"
      ]
     },
     "execution_count": 39,
     "metadata": {},
     "output_type": "execute_result"
    }
   ],
   "source": [
    "area = pd.Series({'Alaska': 1723337, 'California': 423967, 'Texas': 695662, 'Florida': 170312, 'Illinois': 149995})\n",
    "population = pd.Series({'California': 38332521, 'Texas': 26448193, 'New York': 19651127, 'Florida': 19552860, 'Illinois': 12882135})\n",
    "population / area # все остутствующие значения = NaN"
   ]
  },
  {
   "cell_type": "code",
   "execution_count": 38,
   "id": "d72197d8",
   "metadata": {},
   "outputs": [
    {
     "name": "stderr",
     "output_type": "stream",
     "text": [
      "C:\\Users\\Данила\\AppData\\Local\\Temp\\ipykernel_15348\\3572280633.py:1: FutureWarning: Index.__or__ operating as a set operation is deprecated, in the future this will be a logical operation matching Series.__or__.  Use index.union(other) instead\n",
      "  area.index | population.index\n"
     ]
    },
    {
     "data": {
      "text/plain": [
       "Index(['Alaska', 'California', 'Florida', 'Illinois', 'New York', 'Texas'], dtype='object')"
      ]
     },
     "execution_count": 38,
     "metadata": {},
     "output_type": "execute_result"
    }
   ],
   "source": [
    "# объединение индексов\n",
    "area.index | population.index"
   ]
  },
  {
   "cell_type": "code",
   "execution_count": 40,
   "id": "7f0023d3",
   "metadata": {},
   "outputs": [
    {
     "data": {
      "text/plain": [
       "Alaska          0.000000\n",
       "California     90.413926\n",
       "Florida       114.806121\n",
       "Illinois       85.883763\n",
       "New York             inf\n",
       "Texas          38.018740\n",
       "dtype: float64"
      ]
     },
     "execution_count": 40,
     "metadata": {},
     "output_type": "execute_result"
    }
   ],
   "source": [
    "population.divide(area, fill_value = 0) # заменить все остутствующие значения с NaN на 0"
   ]
  },
  {
   "cell_type": "code",
   "execution_count": null,
   "id": "aa12b8ff",
   "metadata": {},
   "outputs": [],
   "source": []
  },
  {
   "cell_type": "code",
   "execution_count": 62,
   "id": "9dc29734",
   "metadata": {},
   "outputs": [
    {
     "data": {
      "text/html": [
       "<div>\n",
       "<style scoped>\n",
       "    .dataframe tbody tr th:only-of-type {\n",
       "        vertical-align: middle;\n",
       "    }\n",
       "\n",
       "    .dataframe tbody tr th {\n",
       "        vertical-align: top;\n",
       "    }\n",
       "\n",
       "    .dataframe thead th {\n",
       "        text-align: right;\n",
       "    }\n",
       "</style>\n",
       "<table border=\"1\" class=\"dataframe\">\n",
       "  <thead>\n",
       "    <tr style=\"text-align: right;\">\n",
       "      <th></th>\n",
       "      <th>A</th>\n",
       "      <th>B</th>\n",
       "    </tr>\n",
       "  </thead>\n",
       "  <tbody>\n",
       "    <tr>\n",
       "      <th>0</th>\n",
       "      <td>12</td>\n",
       "      <td>0</td>\n",
       "    </tr>\n",
       "    <tr>\n",
       "      <th>1</th>\n",
       "      <td>13</td>\n",
       "      <td>15</td>\n",
       "    </tr>\n",
       "  </tbody>\n",
       "</table>\n",
       "</div>"
      ],
      "text/plain": [
       "    A   B\n",
       "0  12   0\n",
       "1  13  15"
      ]
     },
     "execution_count": 62,
     "metadata": {},
     "output_type": "execute_result"
    }
   ],
   "source": [
    "A = pd.DataFrame(np.random.randint(0, 20, (2, 2)), columns=list(\"AB\"))\n",
    "A"
   ]
  },
  {
   "cell_type": "code",
   "execution_count": 65,
   "id": "e6fbb87a",
   "metadata": {},
   "outputs": [
    {
     "data": {
      "text/html": [
       "<div>\n",
       "<style scoped>\n",
       "    .dataframe tbody tr th:only-of-type {\n",
       "        vertical-align: middle;\n",
       "    }\n",
       "\n",
       "    .dataframe tbody tr th {\n",
       "        vertical-align: top;\n",
       "    }\n",
       "\n",
       "    .dataframe thead th {\n",
       "        text-align: right;\n",
       "    }\n",
       "</style>\n",
       "<table border=\"1\" class=\"dataframe\">\n",
       "  <thead>\n",
       "    <tr style=\"text-align: right;\">\n",
       "      <th></th>\n",
       "      <th>B</th>\n",
       "      <th>A</th>\n",
       "      <th>C</th>\n",
       "    </tr>\n",
       "  </thead>\n",
       "  <tbody>\n",
       "    <tr>\n",
       "      <th>0</th>\n",
       "      <td>19</td>\n",
       "      <td>15</td>\n",
       "      <td>12</td>\n",
       "    </tr>\n",
       "    <tr>\n",
       "      <th>1</th>\n",
       "      <td>7</td>\n",
       "      <td>13</td>\n",
       "      <td>16</td>\n",
       "    </tr>\n",
       "    <tr>\n",
       "      <th>2</th>\n",
       "      <td>7</td>\n",
       "      <td>2</td>\n",
       "      <td>6</td>\n",
       "    </tr>\n",
       "  </tbody>\n",
       "</table>\n",
       "</div>"
      ],
      "text/plain": [
       "    B   A   C\n",
       "0  19  15  12\n",
       "1   7  13  16\n",
       "2   7   2   6"
      ]
     },
     "execution_count": 65,
     "metadata": {},
     "output_type": "execute_result"
    }
   ],
   "source": [
    "B = pd.DataFrame(np.random.randint(0, 20, (3, 3)), columns=list(\"BAC\"))\n",
    "B"
   ]
  },
  {
   "cell_type": "code",
   "execution_count": 66,
   "id": "6a5983b9",
   "metadata": {},
   "outputs": [
    {
     "data": {
      "text/html": [
       "<div>\n",
       "<style scoped>\n",
       "    .dataframe tbody tr th:only-of-type {\n",
       "        vertical-align: middle;\n",
       "    }\n",
       "\n",
       "    .dataframe tbody tr th {\n",
       "        vertical-align: top;\n",
       "    }\n",
       "\n",
       "    .dataframe thead th {\n",
       "        text-align: right;\n",
       "    }\n",
       "</style>\n",
       "<table border=\"1\" class=\"dataframe\">\n",
       "  <thead>\n",
       "    <tr style=\"text-align: right;\">\n",
       "      <th></th>\n",
       "      <th>A</th>\n",
       "      <th>B</th>\n",
       "      <th>C</th>\n",
       "    </tr>\n",
       "  </thead>\n",
       "  <tbody>\n",
       "    <tr>\n",
       "      <th>0</th>\n",
       "      <td>27.0</td>\n",
       "      <td>19.0</td>\n",
       "      <td>NaN</td>\n",
       "    </tr>\n",
       "    <tr>\n",
       "      <th>1</th>\n",
       "      <td>26.0</td>\n",
       "      <td>22.0</td>\n",
       "      <td>NaN</td>\n",
       "    </tr>\n",
       "    <tr>\n",
       "      <th>2</th>\n",
       "      <td>NaN</td>\n",
       "      <td>NaN</td>\n",
       "      <td>NaN</td>\n",
       "    </tr>\n",
       "  </tbody>\n",
       "</table>\n",
       "</div>"
      ],
      "text/plain": [
       "      A     B   C\n",
       "0  27.0  19.0 NaN\n",
       "1  26.0  22.0 NaN\n",
       "2   NaN   NaN NaN"
      ]
     },
     "execution_count": 66,
     "metadata": {},
     "output_type": "execute_result"
    }
   ],
   "source": [
    "A + B"
   ]
  },
  {
   "cell_type": "code",
   "execution_count": 69,
   "id": "ac16f2ec",
   "metadata": {},
   "outputs": [
    {
     "name": "stdout",
     "output_type": "stream",
     "text": [
      "fill = 10.0\n"
     ]
    },
    {
     "data": {
      "text/html": [
       "<div>\n",
       "<style scoped>\n",
       "    .dataframe tbody tr th:only-of-type {\n",
       "        vertical-align: middle;\n",
       "    }\n",
       "\n",
       "    .dataframe tbody tr th {\n",
       "        vertical-align: top;\n",
       "    }\n",
       "\n",
       "    .dataframe thead th {\n",
       "        text-align: right;\n",
       "    }\n",
       "</style>\n",
       "<table border=\"1\" class=\"dataframe\">\n",
       "  <thead>\n",
       "    <tr style=\"text-align: right;\">\n",
       "      <th></th>\n",
       "      <th>A</th>\n",
       "      <th>B</th>\n",
       "      <th>C</th>\n",
       "    </tr>\n",
       "  </thead>\n",
       "  <tbody>\n",
       "    <tr>\n",
       "      <th>0</th>\n",
       "      <td>27.0</td>\n",
       "      <td>19.0</td>\n",
       "      <td>22.0</td>\n",
       "    </tr>\n",
       "    <tr>\n",
       "      <th>1</th>\n",
       "      <td>26.0</td>\n",
       "      <td>22.0</td>\n",
       "      <td>26.0</td>\n",
       "    </tr>\n",
       "    <tr>\n",
       "      <th>2</th>\n",
       "      <td>12.0</td>\n",
       "      <td>17.0</td>\n",
       "      <td>16.0</td>\n",
       "    </tr>\n",
       "  </tbody>\n",
       "</table>\n",
       "</div>"
      ],
      "text/plain": [
       "      A     B     C\n",
       "0  27.0  19.0  22.0\n",
       "1  26.0  22.0  26.0\n",
       "2  12.0  17.0  16.0"
      ]
     },
     "execution_count": 69,
     "metadata": {},
     "output_type": "execute_result"
    }
   ],
   "source": [
    "fill = A.stack().mean() # среднее значение A\n",
    "print(f\"fill = {fill}\")\n",
    "A.add(B, fill_value = fill)"
   ]
  },
  {
   "cell_type": "markdown",
   "id": "59e52664",
   "metadata": {},
   "source": [
    "Операторы Pandas:\n",
    "+ add()\n",
    "- sub(), subtract()\n",
    "* mul(), multiply()\n",
    "/ truediv(), div(), divide()\n",
    "// floordiv()\n",
    "% mod()\n",
    "** pow()"
   ]
  }
 ],
 "metadata": {
  "kernelspec": {
   "display_name": "Python 3 (ipykernel)",
   "language": "python",
   "name": "python3"
  },
  "language_info": {
   "codemirror_mode": {
    "name": "ipython",
    "version": 3
   },
   "file_extension": ".py",
   "mimetype": "text/x-python",
   "name": "python",
   "nbconvert_exporter": "python",
   "pygments_lexer": "ipython3",
   "version": "3.9.5"
  }
 },
 "nbformat": 4,
 "nbformat_minor": 5
}
