{
 "cells": [
  {
   "cell_type": "code",
   "execution_count": 3,
   "id": "66c24870",
   "metadata": {},
   "outputs": [],
   "source": [
    "import pandas as pd\n",
    "import numpy as np"
   ]
  },
  {
   "cell_type": "markdown",
   "id": "902891d3",
   "metadata": {},
   "source": [
    "## Увеличение производительности библиотеки Pandas: eval() и query() "
   ]
  },
  {
   "cell_type": "markdown",
   "id": "256ea8a9",
   "metadata": {},
   "source": [
    "### функция eval() "
   ]
  },
  {
   "cell_type": "code",
   "execution_count": 6,
   "id": "66018bdf",
   "metadata": {},
   "outputs": [],
   "source": [
    "# функция eval() применяет строковые выражения для эффективных вычислительных операций\n",
    "nrows, ncols = 100000, 100\n",
    "rng = np.random.RandomState(42)\n",
    "df1, df2, df3, df4 = (pd.DataFrame(rng.rand(nrows, ncols)) for i in range(4))"
   ]
  },
  {
   "cell_type": "code",
   "execution_count": 7,
   "id": "b27c235f",
   "metadata": {},
   "outputs": [
    {
     "name": "stdout",
     "output_type": "stream",
     "text": [
      "85.4 ms ± 7.1 ms per loop (mean ± std. dev. of 7 runs, 10 loops each)\n"
     ]
    }
   ],
   "source": [
    "# стандартный подход библиотеки Pandas\n",
    "%timeit df1 + df2 + df3 + df4"
   ]
  },
  {
   "cell_type": "code",
   "execution_count": 8,
   "id": "06337bed",
   "metadata": {},
   "outputs": [
    {
     "name": "stdout",
     "output_type": "stream",
     "text": [
      "66.8 ms ± 2.02 ms per loop (mean ± std. dev. of 7 runs, 10 loops each)\n"
     ]
    }
   ],
   "source": [
    "# с помощью функции eval()\n",
    "%timeit pd.eval('df1 + df2 + df3 + df4')"
   ]
  },
  {
   "cell_type": "code",
   "execution_count": 10,
   "id": "f8f6d1cf",
   "metadata": {},
   "outputs": [
    {
     "data": {
      "text/plain": [
       "True"
      ]
     },
     "execution_count": 10,
     "metadata": {},
     "output_type": "execute_result"
    }
   ],
   "source": [
    "# поддерживаемые операции:\n",
    "# 1. арифметические операторы\n",
    "result1 = -df1 * df2 / (df3 + df4)\n",
    "result2 = pd.eval('-df1 * df2 / (df3 + df4)')\n",
    "np.allclose(result1, result2)"
   ]
  },
  {
   "cell_type": "code",
   "execution_count": 11,
   "id": "9a230f6d",
   "metadata": {},
   "outputs": [
    {
     "data": {
      "text/plain": [
       "True"
      ]
     },
     "execution_count": 11,
     "metadata": {},
     "output_type": "execute_result"
    }
   ],
   "source": [
    "# 2.операторы сравнения\n",
    "result1 = (df1 < df2) & (df2 <= df3) & (df3 != df4)\n",
    "result2 = pd.eval('(df1 < df2) & (df2 <= df3) & (df3 != df4)')\n",
    "np.allclose(result1, result2)"
   ]
  },
  {
   "cell_type": "code",
   "execution_count": 12,
   "id": "23fb0cea",
   "metadata": {},
   "outputs": [
    {
     "data": {
      "text/plain": [
       "True"
      ]
     },
     "execution_count": 12,
     "metadata": {},
     "output_type": "execute_result"
    }
   ],
   "source": [
    "# 3. побитовые операторы (& и |, and и or)\n",
    "result1 = (df1 < 0.5) & (df2 < 0.5) | (df3 < df4)\n",
    "result2 = pd.eval('(df1 < 0.5) & (df2 < 0.5) | (df3 < df4)')\n",
    "np.allclose(result1, result2)"
   ]
  },
  {
   "cell_type": "code",
   "execution_count": 13,
   "id": "ae7719de",
   "metadata": {},
   "outputs": [
    {
     "data": {
      "text/plain": [
       "True"
      ]
     },
     "execution_count": 13,
     "metadata": {},
     "output_type": "execute_result"
    }
   ],
   "source": [
    "# 4. атрибуты объектов и индексы (obj.attr, obj[index])\n",
    "result1 = df2.T[0] + df3.iloc[1]\n",
    "result2 = pd.eval('df2.T[0] + df3.iloc[1]')\n",
    "np.allclose(result1, result2)"
   ]
  },
  {
   "cell_type": "code",
   "execution_count": null,
   "id": "30278b36",
   "metadata": {},
   "outputs": [],
   "source": [
    "# другие операции: вызовы функций, условные выражения, циклы и др.пока не реализованы"
   ]
  },
  {
   "cell_type": "code",
   "execution_count": 20,
   "id": "7697b050",
   "metadata": {},
   "outputs": [
    {
     "name": "stdout",
     "output_type": "stream",
     "text": [
      "True\n",
      "True\n"
     ]
    }
   ],
   "source": [
    "# DataFrame.eval() для выполнение операций по столбцам\n",
    "df = pd.DataFrame(rng.rand(1000, 3), columns=['A', 'B', 'C'])\n",
    "result1 = (df['A'] + df['B']) / (df['C'] - 1)\n",
    "result2 = pd.eval('(df.A + df.B) / (df.C - 1)')\n",
    "print(np.allclose(result1, result2))\n",
    "result3 = df.eval('(A + B) / (C - 1)')\n",
    "print(np.allclose(result1, result3))"
   ]
  },
  {
   "cell_type": "code",
   "execution_count": 21,
   "id": "1a876872",
   "metadata": {},
   "outputs": [
    {
     "data": {
      "text/html": [
       "<div>\n",
       "<style scoped>\n",
       "    .dataframe tbody tr th:only-of-type {\n",
       "        vertical-align: middle;\n",
       "    }\n",
       "\n",
       "    .dataframe tbody tr th {\n",
       "        vertical-align: top;\n",
       "    }\n",
       "\n",
       "    .dataframe thead th {\n",
       "        text-align: right;\n",
       "    }\n",
       "</style>\n",
       "<table border=\"1\" class=\"dataframe\">\n",
       "  <thead>\n",
       "    <tr style=\"text-align: right;\">\n",
       "      <th></th>\n",
       "      <th>A</th>\n",
       "      <th>B</th>\n",
       "      <th>C</th>\n",
       "      <th>D</th>\n",
       "    </tr>\n",
       "  </thead>\n",
       "  <tbody>\n",
       "    <tr>\n",
       "      <th>0</th>\n",
       "      <td>0.209093</td>\n",
       "      <td>0.829137</td>\n",
       "      <td>0.552909</td>\n",
       "      <td>1.877758</td>\n",
       "    </tr>\n",
       "    <tr>\n",
       "      <th>1</th>\n",
       "      <td>0.432525</td>\n",
       "      <td>0.829181</td>\n",
       "      <td>0.892487</td>\n",
       "      <td>1.413697</td>\n",
       "    </tr>\n",
       "    <tr>\n",
       "      <th>2</th>\n",
       "      <td>0.107944</td>\n",
       "      <td>0.036217</td>\n",
       "      <td>0.645755</td>\n",
       "      <td>0.223244</td>\n",
       "    </tr>\n",
       "    <tr>\n",
       "      <th>3</th>\n",
       "      <td>0.929123</td>\n",
       "      <td>0.906392</td>\n",
       "      <td>0.492830</td>\n",
       "      <td>3.724436</td>\n",
       "    </tr>\n",
       "    <tr>\n",
       "      <th>4</th>\n",
       "      <td>0.907014</td>\n",
       "      <td>0.306617</td>\n",
       "      <td>0.578278</td>\n",
       "      <td>2.098697</td>\n",
       "    </tr>\n",
       "  </tbody>\n",
       "</table>\n",
       "</div>"
      ],
      "text/plain": [
       "          A         B         C         D\n",
       "0  0.209093  0.829137  0.552909  1.877758\n",
       "1  0.432525  0.829181  0.892487  1.413697\n",
       "2  0.107944  0.036217  0.645755  0.223244\n",
       "3  0.929123  0.906392  0.492830  3.724436\n",
       "4  0.907014  0.306617  0.578278  2.098697"
      ]
     },
     "execution_count": 21,
     "metadata": {},
     "output_type": "execute_result"
    }
   ],
   "source": [
    "# присваивание значения любому из столбцов\n",
    "df.eval('D = (A + B) / C', inplace=True)\n",
    "df.head()"
   ]
  },
  {
   "cell_type": "code",
   "execution_count": 22,
   "id": "86f7fab2",
   "metadata": {},
   "outputs": [
    {
     "data": {
      "text/html": [
       "<div>\n",
       "<style scoped>\n",
       "    .dataframe tbody tr th:only-of-type {\n",
       "        vertical-align: middle;\n",
       "    }\n",
       "\n",
       "    .dataframe tbody tr th {\n",
       "        vertical-align: top;\n",
       "    }\n",
       "\n",
       "    .dataframe thead th {\n",
       "        text-align: right;\n",
       "    }\n",
       "</style>\n",
       "<table border=\"1\" class=\"dataframe\">\n",
       "  <thead>\n",
       "    <tr style=\"text-align: right;\">\n",
       "      <th></th>\n",
       "      <th>A</th>\n",
       "      <th>B</th>\n",
       "      <th>C</th>\n",
       "      <th>D</th>\n",
       "    </tr>\n",
       "  </thead>\n",
       "  <tbody>\n",
       "    <tr>\n",
       "      <th>0</th>\n",
       "      <td>0.209093</td>\n",
       "      <td>0.829137</td>\n",
       "      <td>0.552909</td>\n",
       "      <td>-1.121421</td>\n",
       "    </tr>\n",
       "    <tr>\n",
       "      <th>1</th>\n",
       "      <td>0.432525</td>\n",
       "      <td>0.829181</td>\n",
       "      <td>0.892487</td>\n",
       "      <td>-0.444439</td>\n",
       "    </tr>\n",
       "    <tr>\n",
       "      <th>2</th>\n",
       "      <td>0.107944</td>\n",
       "      <td>0.036217</td>\n",
       "      <td>0.645755</td>\n",
       "      <td>0.111076</td>\n",
       "    </tr>\n",
       "    <tr>\n",
       "      <th>3</th>\n",
       "      <td>0.929123</td>\n",
       "      <td>0.906392</td>\n",
       "      <td>0.492830</td>\n",
       "      <td>0.046122</td>\n",
       "    </tr>\n",
       "    <tr>\n",
       "      <th>4</th>\n",
       "      <td>0.907014</td>\n",
       "      <td>0.306617</td>\n",
       "      <td>0.578278</td>\n",
       "      <td>1.038250</td>\n",
       "    </tr>\n",
       "  </tbody>\n",
       "</table>\n",
       "</div>"
      ],
      "text/plain": [
       "          A         B         C         D\n",
       "0  0.209093  0.829137  0.552909 -1.121421\n",
       "1  0.432525  0.829181  0.892487 -0.444439\n",
       "2  0.107944  0.036217  0.645755  0.111076\n",
       "3  0.929123  0.906392  0.492830  0.046122\n",
       "4  0.907014  0.306617  0.578278  1.038250"
      ]
     },
     "execution_count": 22,
     "metadata": {},
     "output_type": "execute_result"
    }
   ],
   "source": [
    "# модифицировать значения любого уже существующего столбца\n",
    "df.eval('D = (A - B) / C', inplace=True)\n",
    "df.head()"
   ]
  },
  {
   "cell_type": "code",
   "execution_count": 25,
   "id": "8ab6f4fa",
   "metadata": {},
   "outputs": [
    {
     "data": {
      "text/plain": [
       "True"
      ]
     },
     "execution_count": 25,
     "metadata": {},
     "output_type": "execute_result"
    }
   ],
   "source": [
    "# локальные переменные в методе DataFrame.eval() (имя переменной обозначается через @)\n",
    "column_mean = df.mean(1)\n",
    "result1 = df['A'] + column_mean\n",
    "result2 = df.eval('A + @column_mean')\n",
    "np.allclose(result1, result2)"
   ]
  },
  {
   "cell_type": "markdown",
   "id": "a3abb4c2",
   "metadata": {},
   "source": [
    "### Метод query() "
   ]
  },
  {
   "cell_type": "code",
   "execution_count": 28,
   "id": "82c920c4",
   "metadata": {},
   "outputs": [
    {
     "data": {
      "text/plain": [
       "True"
      ]
     },
     "execution_count": 28,
     "metadata": {},
     "output_type": "execute_result"
    }
   ],
   "source": [
    "# для операций фильтрации можно воспользоваться методом query()\n",
    "result1 = df[(df.A > 0.5) & (df.B < 0.5)]\n",
    "result2 = df.query('A > 0.5 and B < 0.5')\n",
    "np.allclose(result1, result2)"
   ]
  },
  {
   "cell_type": "code",
   "execution_count": 29,
   "id": "ee78eaa5",
   "metadata": {},
   "outputs": [
    {
     "data": {
      "text/plain": [
       "True"
      ]
     },
     "execution_count": 29,
     "metadata": {},
     "output_type": "execute_result"
    }
   ],
   "source": [
    "# позволяет использовать @ для обозначения локальных переменных\n",
    "C_mean = df.C.mean()\n",
    "result1 = df[(df.A < C_mean) & (df.B < C_mean)]\n",
    "result2 = df.query('A < @C_mean and B < @C_mean')\n",
    "np.allclose(result1, result2)"
   ]
  },
  {
   "cell_type": "markdown",
   "id": "7b72a32e",
   "metadata": {},
   "source": [
    "## Производительность"
   ]
  },
  {
   "cell_type": "markdown",
   "id": "afcd9d9f",
   "metadata": {},
   "source": [
    "Различие в скорости вычислений между традиционными методами и методом eval/query обычно довольно незначительно. Напротив, традиционный метод работает быстрее для маленьких массивов. Преимущество метода eval/query заключается в экономии оперативной памяти и иногда — в более понятном синтаксисе.\n",
    "eval() будет работать быстрее, если не используете всю доступную в системе оперативную память. Основную роль играет отношение размера врЕменных объектов DataFrame по сравнению с размером L1 или L2 кэша процессора в системе. eval() позволяет избежать потенциально медленного перемещения значений между различными кэшами памяти в том случае, когда это отношение намного больше 1"
   ]
  }
 ],
 "metadata": {
  "kernelspec": {
   "display_name": "Python 3 (ipykernel)",
   "language": "python",
   "name": "python3"
  },
  "language_info": {
   "codemirror_mode": {
    "name": "ipython",
    "version": 3
   },
   "file_extension": ".py",
   "mimetype": "text/x-python",
   "name": "python",
   "nbconvert_exporter": "python",
   "pygments_lexer": "ipython3",
   "version": "3.9.5"
  }
 },
 "nbformat": 4,
 "nbformat_minor": 5
}
