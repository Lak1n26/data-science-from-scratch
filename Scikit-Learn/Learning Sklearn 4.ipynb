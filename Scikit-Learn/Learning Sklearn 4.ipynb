{
 "cells": [
  {
   "cell_type": "code",
   "execution_count": 6,
   "id": "523571c7",
   "metadata": {},
   "outputs": [],
   "source": [
    "import numpy as np\n",
    "import pandas as pd\n",
    "import matplotlib.pyplot as plt\n",
    "import seaborn as sns\n",
    "sns.set()"
   ]
  },
  {
   "cell_type": "markdown",
   "id": "f63deb64",
   "metadata": {},
   "source": [
    "# Проектирование признаков (feature engineering)"
   ]
  },
  {
   "cell_type": "markdown",
   "id": "5cb66aa8",
   "metadata": {},
   "source": [
    "стр 427"
   ]
  },
  {
   "cell_type": "markdown",
   "id": "55470aa5",
   "metadata": {},
   "source": [
    "### Категориальные признаки"
   ]
  },
  {
   "cell_type": "code",
   "execution_count": 2,
   "id": "b8063753",
   "metadata": {},
   "outputs": [],
   "source": [
    "data = [\n",
    "     {'price': 850000, 'rooms': 4, 'neighborhood': 'Queen Anne'},\n",
    "     {'price': 700000, 'rooms': 3, 'neighborhood': 'Fremont'},\n",
    "     {'price': 650000, 'rooms': 3, 'neighborhood': 'Wallingford'},\n",
    "     {'price': 600000, 'rooms': 2, 'neighborhood': 'Fremont'}\n",
    " ]"
   ]
  },
  {
   "cell_type": "code",
   "execution_count": 33,
   "id": "4cb70eba",
   "metadata": {},
   "outputs": [
    {
     "data": {
      "text/plain": [
       "array([[     0,      1,      0, 850000,      4],\n",
       "       [     1,      0,      0, 700000,      3],\n",
       "       [     0,      0,      1, 650000,      3],\n",
       "       [     1,      0,      0, 600000,      2]])"
      ]
     },
     "execution_count": 33,
     "metadata": {},
     "output_type": "execute_result"
    }
   ],
   "source": [
    "# прямое кодирование (one-hot encoding)\n",
    "from sklearn.feature_extraction import DictVectorizer\n",
    "vec = DictVectorizer(sparse=False, dtype=int)\n",
    "vec.fit_transform(data)"
   ]
  },
  {
   "cell_type": "code",
   "execution_count": 5,
   "id": "84452e95",
   "metadata": {},
   "outputs": [
    {
     "data": {
      "text/plain": [
       "array(['neighborhood=Fremont', 'neighborhood=Queen Anne',\n",
       "       'neighborhood=Wallingford', 'price', 'rooms'], dtype=object)"
      ]
     },
     "execution_count": 5,
     "metadata": {},
     "output_type": "execute_result"
    }
   ],
   "source": [
    "vec.get_feature_names_out()"
   ]
  },
  {
   "cell_type": "code",
   "execution_count": 36,
   "id": "abd186f1",
   "metadata": {},
   "outputs": [
    {
     "data": {
      "text/html": [
       "<div>\n",
       "<style scoped>\n",
       "    .dataframe tbody tr th:only-of-type {\n",
       "        vertical-align: middle;\n",
       "    }\n",
       "\n",
       "    .dataframe tbody tr th {\n",
       "        vertical-align: top;\n",
       "    }\n",
       "\n",
       "    .dataframe thead th {\n",
       "        text-align: right;\n",
       "    }\n",
       "</style>\n",
       "<table border=\"1\" class=\"dataframe\">\n",
       "  <thead>\n",
       "    <tr style=\"text-align: right;\">\n",
       "      <th></th>\n",
       "      <th>neighborhood=Fremont</th>\n",
       "      <th>neighborhood=Queen Anne</th>\n",
       "      <th>neighborhood=Wallingford</th>\n",
       "      <th>price</th>\n",
       "      <th>rooms</th>\n",
       "    </tr>\n",
       "  </thead>\n",
       "  <tbody>\n",
       "    <tr>\n",
       "      <th>0</th>\n",
       "      <td>0</td>\n",
       "      <td>1</td>\n",
       "      <td>0</td>\n",
       "      <td>850000</td>\n",
       "      <td>4</td>\n",
       "    </tr>\n",
       "    <tr>\n",
       "      <th>1</th>\n",
       "      <td>1</td>\n",
       "      <td>0</td>\n",
       "      <td>0</td>\n",
       "      <td>700000</td>\n",
       "      <td>3</td>\n",
       "    </tr>\n",
       "    <tr>\n",
       "      <th>2</th>\n",
       "      <td>0</td>\n",
       "      <td>0</td>\n",
       "      <td>1</td>\n",
       "      <td>650000</td>\n",
       "      <td>3</td>\n",
       "    </tr>\n",
       "    <tr>\n",
       "      <th>3</th>\n",
       "      <td>1</td>\n",
       "      <td>0</td>\n",
       "      <td>0</td>\n",
       "      <td>600000</td>\n",
       "      <td>2</td>\n",
       "    </tr>\n",
       "  </tbody>\n",
       "</table>\n",
       "</div>"
      ],
      "text/plain": [
       "   neighborhood=Fremont  neighborhood=Queen Anne  neighborhood=Wallingford  \\\n",
       "0                     0                        1                         0   \n",
       "1                     1                        0                         0   \n",
       "2                     0                        0                         1   \n",
       "3                     1                        0                         0   \n",
       "\n",
       "    price  rooms  \n",
       "0  850000      4  \n",
       "1  700000      3  \n",
       "2  650000      3  \n",
       "3  600000      2  "
      ]
     },
     "execution_count": 36,
     "metadata": {},
     "output_type": "execute_result"
    }
   ],
   "source": [
    "pd.DataFrame(vec.fit_transform(data), columns=vec.get_feature_names_out())"
   ]
  },
  {
   "cell_type": "markdown",
   "id": "157aeeb5",
   "metadata": {},
   "source": [
    "если количество значений категории велико, размер набора данных может значительно вырасти. Однако поскольку кодированные данные состоят в основном из нулей, эффективным решением будет разреженный формат вывода:"
   ]
  },
  {
   "cell_type": "code",
   "execution_count": 12,
   "id": "db412117",
   "metadata": {},
   "outputs": [
    {
     "data": {
      "text/plain": [
       "<4x5 sparse matrix of type '<class 'numpy.int32'>'\n",
       "\twith 12 stored elements in Compressed Sparse Row format>"
      ]
     },
     "execution_count": 12,
     "metadata": {},
     "output_type": "execute_result"
    }
   ],
   "source": [
    "vec = DictVectorizer(sparse=True, dtype=int)\n",
    "vec.fit_transform(data)"
   ]
  },
  {
   "cell_type": "markdown",
   "id": "e135d31e",
   "metadata": {},
   "source": [
    "### Текстовые признаки"
   ]
  },
  {
   "cell_type": "markdown",
   "id": "a8c13dba",
   "metadata": {},
   "source": [
    "**По количеству слов**: для каждого фрагмента текста подсчитывается количество вхождений в него каждого из слов, после чего результаты помещаются в таблицу"
   ]
  },
  {
   "cell_type": "code",
   "execution_count": 13,
   "id": "ca4cfe3f",
   "metadata": {},
   "outputs": [],
   "source": [
    "sample = ['problem of evil', 'evil queen', 'horizon problem']"
   ]
  },
  {
   "cell_type": "code",
   "execution_count": 23,
   "id": "a3ba5219",
   "metadata": {},
   "outputs": [
    {
     "data": {
      "text/plain": [
       "<3x5 sparse matrix of type '<class 'numpy.int64'>'\n",
       "\twith 7 stored elements in Compressed Sparse Row format>"
      ]
     },
     "execution_count": 23,
     "metadata": {},
     "output_type": "execute_result"
    }
   ],
   "source": [
    "from sklearn.feature_extraction.text import CountVectorizer\n",
    "vec = CountVectorizer()\n",
    "X = vec.fit_transform(sample)\n",
    "X"
   ]
  },
  {
   "cell_type": "code",
   "execution_count": 24,
   "id": "002b4c84",
   "metadata": {},
   "outputs": [
    {
     "data": {
      "text/html": [
       "<div>\n",
       "<style scoped>\n",
       "    .dataframe tbody tr th:only-of-type {\n",
       "        vertical-align: middle;\n",
       "    }\n",
       "\n",
       "    .dataframe tbody tr th {\n",
       "        vertical-align: top;\n",
       "    }\n",
       "\n",
       "    .dataframe thead th {\n",
       "        text-align: right;\n",
       "    }\n",
       "</style>\n",
       "<table border=\"1\" class=\"dataframe\">\n",
       "  <thead>\n",
       "    <tr style=\"text-align: right;\">\n",
       "      <th></th>\n",
       "      <th>evil</th>\n",
       "      <th>horizon</th>\n",
       "      <th>of</th>\n",
       "      <th>problem</th>\n",
       "      <th>queen</th>\n",
       "    </tr>\n",
       "  </thead>\n",
       "  <tbody>\n",
       "    <tr>\n",
       "      <th>0</th>\n",
       "      <td>1</td>\n",
       "      <td>0</td>\n",
       "      <td>1</td>\n",
       "      <td>1</td>\n",
       "      <td>0</td>\n",
       "    </tr>\n",
       "    <tr>\n",
       "      <th>1</th>\n",
       "      <td>1</td>\n",
       "      <td>0</td>\n",
       "      <td>0</td>\n",
       "      <td>0</td>\n",
       "      <td>1</td>\n",
       "    </tr>\n",
       "    <tr>\n",
       "      <th>2</th>\n",
       "      <td>0</td>\n",
       "      <td>1</td>\n",
       "      <td>0</td>\n",
       "      <td>1</td>\n",
       "      <td>0</td>\n",
       "    </tr>\n",
       "  </tbody>\n",
       "</table>\n",
       "</div>"
      ],
      "text/plain": [
       "   evil  horizon  of  problem  queen\n",
       "0     1        0   1        1      0\n",
       "1     1        0   0        0      1\n",
       "2     0        1   0        1      0"
      ]
     },
     "execution_count": 24,
     "metadata": {},
     "output_type": "execute_result"
    }
   ],
   "source": [
    "pd.DataFrame(X.toarray(), columns=vec.get_feature_names_out())"
   ]
  },
  {
   "cell_type": "markdown",
   "id": "4633902e",
   "metadata": {},
   "source": [
    "**«терма-обратная частотность документа»** (term frequencyinverse document frequency) или TF-IDF. Cлова получают вес с учетом частоты их появления во всех документах"
   ]
  },
  {
   "cell_type": "code",
   "execution_count": 39,
   "id": "d47130fc",
   "metadata": {},
   "outputs": [
    {
     "data": {
      "text/html": [
       "<div>\n",
       "<style scoped>\n",
       "    .dataframe tbody tr th:only-of-type {\n",
       "        vertical-align: middle;\n",
       "    }\n",
       "\n",
       "    .dataframe tbody tr th {\n",
       "        vertical-align: top;\n",
       "    }\n",
       "\n",
       "    .dataframe thead th {\n",
       "        text-align: right;\n",
       "    }\n",
       "</style>\n",
       "<table border=\"1\" class=\"dataframe\">\n",
       "  <thead>\n",
       "    <tr style=\"text-align: right;\">\n",
       "      <th></th>\n",
       "      <th>evil</th>\n",
       "      <th>horizon</th>\n",
       "      <th>of</th>\n",
       "      <th>problem</th>\n",
       "      <th>queen</th>\n",
       "    </tr>\n",
       "  </thead>\n",
       "  <tbody>\n",
       "    <tr>\n",
       "      <th>0</th>\n",
       "      <td>0.517856</td>\n",
       "      <td>0.000000</td>\n",
       "      <td>0.680919</td>\n",
       "      <td>0.517856</td>\n",
       "      <td>0.000000</td>\n",
       "    </tr>\n",
       "    <tr>\n",
       "      <th>1</th>\n",
       "      <td>0.605349</td>\n",
       "      <td>0.000000</td>\n",
       "      <td>0.000000</td>\n",
       "      <td>0.000000</td>\n",
       "      <td>0.795961</td>\n",
       "    </tr>\n",
       "    <tr>\n",
       "      <th>2</th>\n",
       "      <td>0.000000</td>\n",
       "      <td>0.795961</td>\n",
       "      <td>0.000000</td>\n",
       "      <td>0.605349</td>\n",
       "      <td>0.000000</td>\n",
       "    </tr>\n",
       "  </tbody>\n",
       "</table>\n",
       "</div>"
      ],
      "text/plain": [
       "       evil   horizon        of   problem     queen\n",
       "0  0.517856  0.000000  0.680919  0.517856  0.000000\n",
       "1  0.605349  0.000000  0.000000  0.000000  0.795961\n",
       "2  0.000000  0.795961  0.000000  0.605349  0.000000"
      ]
     },
     "execution_count": 39,
     "metadata": {},
     "output_type": "execute_result"
    }
   ],
   "source": [
    "from sklearn.feature_extraction.text import TfidfVectorizer\n",
    "vec = TfidfVectorizer()\n",
    "X = vec.fit_transform(sample)\n",
    "pd.DataFrame(X.toarray(), columns=vec.get_feature_names_out())"
   ]
  },
  {
   "cell_type": "markdown",
   "id": "30b6a054",
   "metadata": {},
   "source": [
    "### Производные признаки"
   ]
  },
  {
   "cell_type": "code",
   "execution_count": 7,
   "id": "e7ca623d",
   "metadata": {},
   "outputs": [
    {
     "data": {
      "text/plain": [
       "<matplotlib.collections.PathCollection at 0x23fdfb13460>"
      ]
     },
     "execution_count": 7,
     "metadata": {},
     "output_type": "execute_result"
    },
    {
     "data": {
      "image/png": "[encoded data removed]",
      "text/plain": [
       "<Figure size 640x480 with 1 Axes>"
      ]
     },
     "metadata": {},
     "output_type": "display_data"
    }
   ],
   "source": [
    "x = np.arange(1, 6)\n",
    "y = np.array([4, 2, 1, 3, 7])\n",
    "# данные, которые нельзя хорошо описать с помощью прямой линии\n",
    "plt.scatter(x, y)"
   ]
  },
  {
   "cell_type": "code",
   "execution_count": 8,
   "id": "0eb4a768",
   "metadata": {},
   "outputs": [
    {
     "data": {
      "text/plain": [
       "[<matplotlib.lines.Line2D at 0x23fcd457790>]"
      ]
     },
     "execution_count": 8,
     "metadata": {},
     "output_type": "execute_result"
    },
    {
     "data": {
      "image/png": "[encoded data removed]",
      "text/plain": [
       "<Figure size 640x480 with 1 Axes>"
      ]
     },
     "metadata": {},
     "output_type": "display_data"
    }
   ],
   "source": [
    "# линейная регрессия\n",
    "from sklearn.linear_model import LinearRegression\n",
    "X = x[:, np.newaxis]\n",
    "model = LinearRegression().fit(X, y)\n",
    "yfit = model.predict(X)\n",
    "plt.scatter(x, y)\n",
    "plt.plot(X, yfit)"
   ]
  },
  {
   "cell_type": "markdown",
   "id": "d7e1da4a",
   "metadata": {},
   "source": [
    "Требуется использовать более сложную модель, сделать это можно путем преобразования данных, добавив дополнительные столбцы признаков для увеличения гибкости модели"
   ]
  },
  {
   "cell_type": "code",
   "execution_count": 13,
   "id": "89cedee6",
   "metadata": {},
   "outputs": [
    {
     "data": {
      "text/plain": [
       "array([[  1.,   1.,   1.],\n",
       "       [  2.,   4.,   8.],\n",
       "       [  3.,   9.,  27.],\n",
       "       [  4.,  16.,  64.],\n",
       "       [  5.,  25., 125.]])"
      ]
     },
     "execution_count": 13,
     "metadata": {},
     "output_type": "execute_result"
    }
   ],
   "source": [
    "from sklearn.preprocessing import PolynomialFeatures\n",
    "poly = PolynomialFeatures(degree=3, include_bias=False)\n",
    "X2 = poly.fit_transform(X)\n",
    "# 1 столбец - x\n",
    "# 2 столбец - x^2\n",
    "# 3 столбец - x^3\n",
    "X2"
   ]
  },
  {
   "cell_type": "code",
   "execution_count": 15,
   "id": "aa42949a",
   "metadata": {},
   "outputs": [
    {
     "data": {
      "text/plain": [
       "[<matplotlib.lines.Line2D at 0x23fe14b59a0>]"
      ]
     },
     "execution_count": 15,
     "metadata": {},
     "output_type": "execute_result"
    },
    {
     "data": {
      "image/png": "[encoded data removed]",
      "text/plain": [
       "<Figure size 640x480 with 1 Axes>"
      ]
     },
     "metadata": {},
     "output_type": "display_data"
    }
   ],
   "source": [
    "model = LinearRegression().fit(X2, y)\n",
    "yfit = model.predict(X2)\n",
    "plt.scatter(x, y)\n",
    "plt.plot(x, yfit)"
   ]
  },
  {
   "cell_type": "markdown",
   "id": "352a9656",
   "metadata": {},
   "source": [
    "### Внесение отсутствующих данных"
   ]
  },
  {
   "cell_type": "markdown",
   "id": "95d20a78",
   "metadata": {},
   "source": [
    "Часто встречающаяся задача в проектировании признаков — обработка\n",
    "отсутствующих данных"
   ]
  },
  {
   "cell_type": "code",
   "execution_count": 19,
   "id": "46002acb",
   "metadata": {},
   "outputs": [],
   "source": [
    "# стандартный подход к заполнениню (imputation) пропущенных значений \n",
    "# (с использованием среднего значения, медианы или часто встречающегося значения)\n",
    "from sklearn.impute import SimpleImputer\n",
    "imp = SimpleImputer(strategy='mean')"
   ]
  },
  {
   "cell_type": "code",
   "execution_count": 22,
   "id": "5c079a4a",
   "metadata": {},
   "outputs": [],
   "source": [
    "X = np.array([[np.nan, 0, 3 ],\n",
    "             [3, 7, 9 ],\n",
    "             [3, 5, 2 ],\n",
    "             [4, np.nan, 6 ],\n",
    "             [8, 8, 1 ]])\n",
    "y = np.array([14, 16, -1, 8, -5])"
   ]
  },
  {
   "cell_type": "code",
   "execution_count": 23,
   "id": "4926860c",
   "metadata": {},
   "outputs": [
    {
     "data": {
      "text/plain": [
       "array([[4.5, 0. , 3. ],\n",
       "       [3. , 7. , 9. ],\n",
       "       [3. , 5. , 2. ],\n",
       "       [4. , 5. , 6. ],\n",
       "       [8. , 8. , 1. ]])"
      ]
     },
     "execution_count": 23,
     "metadata": {},
     "output_type": "execute_result"
    }
   ],
   "source": [
    "X2 = imp.fit_transform(X)\n",
    "# получили данные, в которых два пропущенные значения заменены\n",
    "# на среднее значение остальных элементов соответствующего столбца\n",
    "X2"
   ]
  },
  {
   "cell_type": "markdown",
   "id": "ab331a67",
   "metadata": {},
   "source": [
    "### Конвейеры признаков"
   ]
  },
  {
   "cell_type": "markdown",
   "id": "343bb34c",
   "metadata": {},
   "source": [
    "Конвейер используется для организации потоковой обработки.\n",
    "\n",
    "Например:\n",
    "1. Внести вместо отсутствующих данных средние значения.\n",
    "2. Преобразовать признаки в квадратичные.\n",
    "3. Обучить модель линейной регрессии."
   ]
  },
  {
   "cell_type": "code",
   "execution_count": 24,
   "id": "81683100",
   "metadata": {},
   "outputs": [],
   "source": [
    "from sklearn.pipeline import make_pipeline\n",
    "model = make_pipeline(\n",
    "    SimpleImputer(strategy='mean'),\n",
    "    PolynomialFeatures(degree=2),\n",
    "    LinearRegression()\n",
    ")"
   ]
  },
  {
   "cell_type": "code",
   "execution_count": 26,
   "id": "c07d2d97",
   "metadata": {},
   "outputs": [
    {
     "data": {
      "text/plain": [
       "array([14., 16., -1.,  8., -5.])"
      ]
     },
     "execution_count": 26,
     "metadata": {},
     "output_type": "execute_result"
    }
   ],
   "source": [
    "model.fit(X, y)\n",
    "model.predict(X)"
   ]
  }
 ],
 "metadata": {
  "kernelspec": {
   "display_name": "Python 3 (ipykernel)",
   "language": "python",
   "name": "python3"
  },
  "language_info": {
   "codemirror_mode": {
    "name": "ipython",
    "version": 3
   },
   "file_extension": ".py",
   "mimetype": "text/x-python",
   "name": "python",
   "nbconvert_exporter": "python",
   "pygments_lexer": "ipython3",
   "version": "3.9.5"
  }
 },
 "nbformat": 4,
 "nbformat_minor": 5
}
